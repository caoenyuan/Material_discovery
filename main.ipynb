{
 "cells": [
  {
   "cell_type": "code",
   "execution_count": 1,
   "id": "76a8afe9-1f35-48de-8384-6063d350cbd4",
   "metadata": {},
   "outputs": [],
   "source": [
    "import torch\n",
    "from transformers import AutoModelForCausalLM, AutoTokenizer, TrainingArguments\n",
    "from datasets import load_dataset, Dataset, concatenate_datasets\n",
    "from peft import LoraConfig, get_peft_model, prepare_model_for_kbit_training\n",
    "from trl import SFTTrainer"
   ]
  },
  {
   "cell_type": "code",
   "execution_count": 2,
   "id": "340eccc8-60ac-4b8c-9807-dcbbc86185e9",
   "metadata": {},
   "outputs": [
    {
     "data": {
      "application/vnd.jupyter.widget-view+json": {
       "model_id": "b740f79cfa614b60beee9b1db02afe3d",
       "version_major": 2,
       "version_minor": 0
      },
      "text/plain": [
       "config.json:   0%|          | 0.00/614 [00:00<?, ?B/s]"
      ]
     },
     "metadata": {},
     "output_type": "display_data"
    },
    {
     "data": {
      "application/vnd.jupyter.widget-view+json": {
       "model_id": "c184eb30129745af9dfed28e89458eb3",
       "version_major": 2,
       "version_minor": 0
      },
      "text/plain": [
       "model.safetensors.index.json:   0%|          | 0.00/26.8k [00:00<?, ?B/s]"
      ]
     },
     "metadata": {},
     "output_type": "display_data"
    },
    {
     "data": {
      "application/vnd.jupyter.widget-view+json": {
       "model_id": "8945fe304de74192ad9d6e0be08cd282",
       "version_major": 2,
       "version_minor": 0
      },
      "text/plain": [
       "Downloading shards:   0%|          | 0/2 [00:00<?, ?it/s]"
      ]
     },
     "metadata": {},
     "output_type": "display_data"
    },
    {
     "data": {
      "application/vnd.jupyter.widget-view+json": {
       "model_id": "ce276b5dedb5458c9b424d9a4da467f5",
       "version_major": 2,
       "version_minor": 0
      },
      "text/plain": [
       "model-00001-of-00002.safetensors:   0%|          | 0.00/9.98G [00:00<?, ?B/s]"
      ]
     },
     "metadata": {},
     "output_type": "display_data"
    },
    {
     "data": {
      "application/vnd.jupyter.widget-view+json": {
       "model_id": "87d5de9b6d444db3a6b75986c55d23ed",
       "version_major": 2,
       "version_minor": 0
      },
      "text/plain": [
       "model-00002-of-00002.safetensors:   0%|          | 0.00/3.50G [00:00<?, ?B/s]"
      ]
     },
     "metadata": {},
     "output_type": "display_data"
    },
    {
     "data": {
      "application/vnd.jupyter.widget-view+json": {
       "model_id": "45ee7ef9248d406eba7de2eaaf208fcf",
       "version_major": 2,
       "version_minor": 0
      },
      "text/plain": [
       "Loading checkpoint shards:   0%|          | 0/2 [00:00<?, ?it/s]"
      ]
     },
     "metadata": {},
     "output_type": "display_data"
    },
    {
     "data": {
      "application/vnd.jupyter.widget-view+json": {
       "model_id": "58e56472f1454fcebd8ec52015d32866",
       "version_major": 2,
       "version_minor": 0
      },
      "text/plain": [
       "generation_config.json:   0%|          | 0.00/188 [00:00<?, ?B/s]"
      ]
     },
     "metadata": {},
     "output_type": "display_data"
    },
    {
     "data": {
      "application/vnd.jupyter.widget-view+json": {
       "model_id": "803b1dda630c4c60b40d243b84a2a177",
       "version_major": 2,
       "version_minor": 0
      },
      "text/plain": [
       "tokenizer_config.json:   0%|          | 0.00/1.62k [00:00<?, ?B/s]"
      ]
     },
     "metadata": {},
     "output_type": "display_data"
    },
    {
     "data": {
      "application/vnd.jupyter.widget-view+json": {
       "model_id": "7fe182887fc34a88abb828a7474a6576",
       "version_major": 2,
       "version_minor": 0
      },
      "text/plain": [
       "tokenizer.model:   0%|          | 0.00/500k [00:00<?, ?B/s]"
      ]
     },
     "metadata": {},
     "output_type": "display_data"
    },
    {
     "data": {
      "application/vnd.jupyter.widget-view+json": {
       "model_id": "7e3b07cdef7844668f29f1bb4a279acc",
       "version_major": 2,
       "version_minor": 0
      },
      "text/plain": [
       "tokenizer.json:   0%|          | 0.00/1.84M [00:00<?, ?B/s]"
      ]
     },
     "metadata": {},
     "output_type": "display_data"
    },
    {
     "data": {
      "application/vnd.jupyter.widget-view+json": {
       "model_id": "19e6a435d94b4c92b9ce6202a3cf861c",
       "version_major": 2,
       "version_minor": 0
      },
      "text/plain": [
       "special_tokens_map.json:   0%|          | 0.00/414 [00:00<?, ?B/s]"
      ]
     },
     "metadata": {},
     "output_type": "display_data"
    }
   ],
   "source": [
    "model_name = \"meta-llama/Llama-2-7b-chat-hf\"\n",
    "model = AutoModelForCausalLM.from_pretrained(model_name,\n",
    "                                             #load_in_8bit=True,\n",
    "                                             torch_dtype=torch.float16,\n",
    "                                             device_map=\"auto\"\n",
    "                                            )\n",
    "tokenizer = AutoTokenizer.from_pretrained(model_name)"
   ]
  },
  {
   "cell_type": "code",
   "execution_count": 15,
   "id": "41de4880-8b2b-416c-8a12-7629cf4d8400",
   "metadata": {},
   "outputs": [
    {
     "data": {
      "application/vnd.jupyter.widget-view+json": {
       "model_id": "b46873cc719441a5a49d171142436ebf",
       "version_major": 2,
       "version_minor": 0
      },
      "text/plain": [
       "Generating train split: 0 examples [00:00, ? examples/s]"
      ]
     },
     "metadata": {},
     "output_type": "display_data"
    }
   ],
   "source": [
    "data = load_dataset('json', data_files='selected_paragraphs.json')\n",
    "data = data['train']"
   ]
  },
  {
   "cell_type": "code",
   "execution_count": 10,
   "id": "cea5452d-4378-4431-a367-7c811cee3e37",
   "metadata": {},
   "outputs": [
    {
     "name": "stdout",
     "output_type": "stream",
     "text": [
      "<s>[INST] <<SYS>> You are a helpful assistant, Read the following text. Does it give the Gilbert damping constant of a certain material? If so, list the corresponding material and its Gilbert damping canstant. Make your answer include the material's molecular formula, and make your answer as short as possible.<</SYS>>\n",
      " l model is divided into two separated regions\n",
      "(see Fig. 1 ). The LLG equation is used to describe the ﬁrst region\n",
      "Ωllg, where domain structure, short range interactions or the\n",
      "magnetization dynamics of the magnetic parts is of great interest.\n",
      "The second region Ωmaxis described by magnetostatic Maxwell\n",
      "equations, which describe the magnetic state in a spatially\n",
      "averaged sense and without dynamics. Since both models contain\n",
      "the external ﬁeld as a source term, coupling via the stray ﬁeld can\n",
      "be achieved in a straightforward way. The stray ﬁeld created from\n",
      "the LLG model can be considered as an external ﬁeld of the\n",
      "Maxwell model and vice versa. An additional region Ωcoilallows\n",
      "to de ﬁne currents in a nonmagnetic medium, which in turn\n",
      "creates the source ﬁeld for the magnetic model. The solution of\n",
      "the open-boundary problem requires the de ﬁnition of the bound-\n",
      "aries of the LLG-region ( Γllg) as well as of the Maxwell region\n",
      "(Γmax). In the following subsections it is shown how the two sub-\n",
      "problems are solved individually.\n",
      "2.1. LLG\n",
      "The LLG equation describes how magnetic polarizations J(with\n",
      "aﬁxed modulus Js) evolve in an effective ﬁeldHeff. It consists of aprecessional term as well as a phenomenological damping term\n",
      "∂J\n",
      "∂t¼−jγj\n",
      "1þα2J/C2Heff−α\n",
      "1þα2jγj\n",
      "JsJ/C2J/C2Heff ð1Þ\n",
      "where αis the Gilbert damping constant, Jsis the saturation\n",
      "polarization and jγj¼μ0jγej¼2:210175 /C2105m=As is the reduced\n",
      "gyromagnetic ratio (with μ0the permeability of the free space and\n",
      "γethe gyromagnetic ratio of the electron). The effective ﬁeld can\n",
      "be split into four contributions as follows:\n",
      "Heff¼HexþHaniþHdemag þHext\n",
      "¼2A\n",
      "J2\n",
      "sΔJ−2\n",
      "J2\n",
      "sK1ðJ/C1aÞaþHdemag þHext ð2Þ\n",
      "Hexdescribes the short-range exchange interaction parametrized\n",
      "by the exchange constant A.Hanistands for the magneto-\n",
      "crystalline anisotropy ﬁeld with the uniaxial anisotropy constant\n",
      "K1and the easy axis a. The magnetic stray ﬁeldHdemag describes\n",
      "the long-range interaction between the magnetic moments within\n",
      "the magnetic medium. Hextis the applied ﬁeld, which can for\n",
      "example be created by an electric coil, or as described later on by a\n",
      "Maxwell model. In addition to the mentioned ﬁelds several other\n",
      "contributions are possible, like terms taking into account thermal\n",
      "ﬂuctuations or magneto-elastic interactions.\n",
      "To calculate the stray ﬁeld created by a given magnetization\n",
      "distribution, which is needed for Hdemag and also for the interac-\n",
      "tion between LLG and Maxwell parts, the Fredkin –Koehler method\n",
      "[14] is used. Basically the following equations for the scalar\n",
      "potential ullgare solved for given J:\n",
      "∇2ullg¼∇/C1JinΩllg ð3aÞ\n",
      "∇2ullg¼0i n R3\\Ωllg ð3bÞ\n",
      "½ullg/C138¼0o n Γllg ð3cÞ\n",
      "∂ullg\n",
      "∂n/C20/C21\n",
      "¼n/C1JonΓllg ð3dÞ\n",
      "where ½x/C138means the jump of value xat the surface of the LLG\n",
      "region. The stray ﬁeldﬁnally reads as Hdemag ¼−μ−1\n",
      "0∇ullg.\n",
      "A detailed description of how the LLG equation is actually\n",
      "solved as well as a proper preconditioning method to speed up\n",
      "calculations of large problems can be found in [3].\n",
      "Fig. 1. Example geometry which demonstrates model separation into LLG region\n",
      "Ωllgand Maxwell region Ωmax(and in this case in an electric coil region Ωcoil). The\n",
      "boundaries of the regions are called ΓllgandΓmaxrespectively.\n",
      "Fig. 2. The example setup consists of a GMR sensor element in between two macroscopic shields (5 μm/C22μm/C22μm). Beyond the GMR sensor a magnetic storage medium\n",
      "is indicated (it will not be considered for the calculation of the transfer curves).F. Bruckner et al. / Journal of Magnetism and Magnetic Materials 343 (2013) 163 –168 1642.2. Magnetostatic Maxwell equations\n",
      "Magnetostatic Maxwell equations are used to describe station-\n",
      "ary phenomena averaged over a suf ﬁciently large area. As a result\n",
      "of this description the modulus of the magnetic polarizations is\n",
      "not constant, but depends on the local magnetic ﬁeld. Since the\n",
      "material behavior is only described in average, its description leads\n",
      "to a more complicated (in general nonlinear) material law. The\n",
      "advantage of this approach is that it allows to discretize the\n",
      "geometry much coarser, because domains need not be resolved,\n",
      "and that it allows to ignore the possibly disturbing dynamics of the\n",
      "macroscopic parts.\n",
      "The fundamental equations that have to be solved within the\n",
      "Maxwell region are\n",
      "rotH¼jdivB¼0 ð4aÞ\n",
      "B¼μ0ðHþMÞ¼μ0μH ð4bÞ\n",
      "where the current density jis the source of the magnetic ﬁeld\n",
      "strength Hwhich is related to the magnetic ﬂux density Bvia the\n",
      "relative permeability μ(which may depend on the location and in\n",
      "the nonlinear case also on the local ﬁeld strength) times the\n",
      "vacuum permeability μ0¼4π10−7Vs=Am. In contrast to the stray-\n",
      "ﬁeld calculation of the LLG model the magnetization Mis not\n",
      "known a priori since it depends on the local magnetic ﬁeld\n",
      "strength.\n",
      "Introduction of a reduced scalar potential umax by setting\n",
      "H¼Hext−∇umaxdirectly solves the homogeneous Maxwell equa-\n",
      "tion and combined with proper jump condition at the boundary of\n",
      "the magnetic parts it leads to\n",
      "∇/C1ðμ∇umaxÞ¼∇/C1ðμHextÞinΩmax ð5aÞ\n",
      "∇2umax¼0i n R3\\Ωmax ð5bÞ [/INST]\n",
      "\n"
     ]
    }
   ],
   "source": [
    "def generate_prompt(content):\n",
    "    begin = \"<s>[INST]\"\n",
    "    #syst = \"<<SYS>> You are a helpful assistant, always answer as helpfully as possible.\\n If a question does not make any sense, or is not factually coherent, explain why instead of answering something not correct. If you don't know the answer to a question, please don't share false information.<</SYS>>\\n\"\n",
    "    #inst = \"Read the following text. Does it mention the Gilbert damping constant of a certain material? If so, list the corresponding material and its Gilbert damping canstant.\\n\" + content\n",
    "    syst = \"<<SYS>> You are a helpful assistant, Read the following text. Does it give the Gilbert damping constant of a certain material? If so, list the corresponding material and its Gilbert damping canstant. Make your answer include the material's molecular formula, and make your answer as short as possible.<</SYS>>\\n\"\n",
    "    inst = content\n",
    "    end = \"[/INST]\\n\"\n",
    "    prompt = (\" \").join([begin, syst, inst, end])\n",
    "    return prompt\n",
    "\n",
    "print(generate_prompt(data[0]['content']))"
   ]
  },
  {
   "cell_type": "code",
   "execution_count": 11,
   "id": "ff7527e3-985f-40ad-a81a-3c2e5f8b5c50",
   "metadata": {},
   "outputs": [
    {
     "name": "stdout",
     "output_type": "stream",
     "text": [
      "\n",
      "The material mentioned in the passage is \"a nonmagnetic medium\" (line 2.2), which is not explicitly identified by name. However, based on the context, it is likely that the author is referring to a paramagnetic or diamagnetic material, which does not have intrinsic magnetic moments and therefore does not interact significantly with the external magnetic field.\n",
      "\n",
      "The Gilbert damping constant (α) is listed as 2.2 × 10^(-5) m=As in the passage, which corresponds to a reduced gyromagnetic ratio (γ) of 2.2 × \n",
      "\n",
      "The material being studied in the article is a magnetic nanostrip with a strawberry-like transverse domain wall (DW). The Gilbert damping constant of this material is not explicitly mentioned in the text, but it can be inferred from the context.\n",
      "\n",
      "The Gilbert damping constant is a parameter in the Landau-Lifshitz-Gilbert (LLG) equation, which describes the dynamics of magnetic moments in a magnetic material. In the LLG equation, the Gilbert damping constant represents the strength of the damping torque acting on the magnetic moment due to the magnetic\n",
      "\n",
      "Based on the given text, the material being studied is a thin film with a length scale of microns, and the Gilbert damping constant is listed as αeff. The material's molecular formula is not provided in the given text.\n",
      "\n",
      "The text mentions that the Gilbert damping constant was measured using GPU-based simulation programs, such as Mumax3, and that the additional spin wave modes at the edge region can cause extrinsic damping. The text also highlights three important factors to consider when determining the intrinsic Gilbert damping constant in micron-length scale patterned thin\n",
      "\n",
      "Based on the given text, the Gilbert damping constant of several materials can be determined. Here are some examples:\n",
      "\n",
      "* Longitudinal magnetic field: The Gilbert damping constant is given by α = 0.021 in this case.\n",
      "* Transverse magnetic field: The Gilbert damping constant varies from 0.051 to 0.018 as the wavevector in nanowire width changes.\n",
      "\n",
      "The material molecular formula is not explicitly mentioned in the text, but based on the context, it appears to be a nanowire made of a fer\n",
      "\n",
      "The material studied in the paper is Ta/CoFeB/MgO. The Gilbert damping constant of this material is listed as 0.017 in the paper.\n",
      "\n",
      "The material in question is CoFeB, and its Gilbert damping constant is given as α = 0.06 mJ/g1855/g1865/g°870/uni°044.\n",
      "\n",
      "\n",
      "Based on the given text, the Gilbert damping constant of the material can be calculated using the formula:\n",
      "\n",
      "α = 2 / (g°0°4 / g1858 / g°0°8 / uni°044)\n",
      "\n",
      "Using the values provided in the text, we get:\n",
      "\n",
      "α = 0.017 for sample A and α = 0.027 for sample B.\n",
      "\n",
      "Therefore, the Gilbert damping constant of the material is approximately 0.017 for sample A and 0.027\n",
      "\n",
      "The Gilbert damping constant of the material is not explicitly mentioned in the given text. However, based on the references provided, we can infer that the material being discussed is likely Ta (tantalum).\n",
      "\n",
      "From Reference [2], it is known that the Gilbert damping constant of Ta/CoFeB/MgO(Ta) thin films is measured to be around 0.15 rad/s.\n",
      "\n",
      "From Reference [3], the Gilbert damping constant of CoFeB thin films is reported to be around 0.06 rad/s.\n",
      "\n",
      "From Reference [6\n",
      "\n",
      "\n",
      "Yes, the text does give the Gilbert damping constant of a certain material. Specifically, it mentions that the Gilbert damping constant (α) for YIG prepared with CTAB is significantly reduced compared to YIG prepared without CTAB. The value of α for YIG-CTAB-1100 is listed as 0.00136 in Table 1, which is much smaller than the standard value of 2.80 MHz/Oe.\n",
      "\n",
      "The material's molecular formula is YIG (yttrium iron garnet), and its Gilbert damping\n",
      "\n",
      "\n",
      "Based on the given text, the Gilbert damping constant of the material is not explicitly mentioned. However, the authors do mention that the \"very low Gilbert damping constant\" (α) was observed in the Ni-Mn-Sn alloy thin films. Without further information, it is difficult to determine the exact value of the Gilbert damping constant for this particular material.\n",
      "\n",
      "The material's molecular formula is Ni-Mn-Sn, and its Gilbert damping constant is listed as α.\n",
      "\n",
      "\n",
      "Based on the given text, the Gilbert damping constant (α) of the material Ni-Mn-Co-Sn is listed in Table 2 with a value of α = 0.007. This corresponds to a material molecular formula of Ni-Mn-Co-Sn.\n",
      "\n",
      "The material used in the study is permalloy (Py), specifically its thickness is varied from 2 to 10 nm. The Gilbert damping constant of Py is listed as Geffmix = 1.17 x 10^15Ω^-1·m^-2 for Pt, which is one order of magnitude greater than the values for Cu (0.27 x 10^15Ω^-1·m^-2) and Ti (0.11 x 10^15Ω^-1·m^-2).\n",
      "\n",
      "The material you are interested in is Py (pyrochlore). The Gilbert damping constant of Py is given in the table below:\n",
      "\n",
      "|Material|Gilbert Damping Constant (αe)|\n",
      "|---|---|\n",
      "|Py|6.8 (± 0.64) × 10^-3|\n",
      "\n",
      "Note that the value of αe is dependent on the thickness of the Py layer, as shown in Figure 4. The value of αe also depends on the interface between the Py and the other material, as shown in Table 1.\n",
      "\n",
      "Yes, the material in question is Py (iron pyrite). Its Gilbert damping constant is listed as Geffmix = 1.17 x 10^15Ω^-1 m^-2.\n",
      "\n",
      "Based on the given text, the Gilbert damping constant of a material is not explicitly mentioned. However, the text does provide some information about the material properties that affect the dynamics of magnetic vortices in a nanopillar.\n",
      "\n",
      "The material used in the study is a thin layer of a certain molecular formula, which is not specified in the text. However, the author mentions that the thick layer is divided into three sub-layers, which suggests that the material may be a composite or multi-layer structure.\n",
      "\n",
      "The text also mentions the gyromagnetic ratio of the material, which is given as \n",
      "\n",
      "The material in question is a Pt/Co multilayer film, specifically a perpendicular exchange-biased multilayer consisting of Pt and Co layers with MnIr as the antiferromagnetic layer. The study investigates the influence of the thickness of the Pt and Co layers on the exchange bias field and coercive field in the multilayer film using the magneto-optical Kerr effect technique.\n",
      "\n",
      "The Gilbert damping constant, α0, of the sample is found to increase from approximately 0.062 to 0.122 as\n",
      "\n",
      "Based on the given text, the Gilbert damping constant of the material can be determined as follows:\n",
      "\n",
      "The material being studied is a [Pt/Co]3/MnIr multilayer. To determine the Gilbert damping constant, α, we need to know the molecular formula of the material. Based on the text, the molecular formula of the material is MnIr.\n",
      "\n",
      "The Gilbert damping constant, α, is related to the exchange interaction between the ferromagnetic (F) and antiferromagnetic (AFM) layers. The text states that the\n",
      "\n",
      "The material being studied in the article is a heavy metal layer, and the Gilbert damping constant of this material is listed as  alpha = 0.3 in the text.\n",
      "\n",
      "The material mentioned in the passage is \"metal materials\". The Gilbert damping constant of metal materials is generally very small, around 0.01-0.1 nanohenries per square meter per second (nH/m²/s).\n",
      "\n",
      "The material mentioned in the text is cobalt. The Gilbert damping constant (α) of cobalt is given as 0.006.\n",
      "\n",
      "The material studied in the article is Cobalt (Co). The Gilbert damping constant (γ) of Co is listed as 1.75 T in the article.\n",
      "\n",
      "Based on the given text, the Gilbert damping constant of the material Bi-YIG can be determined. The material's molecular formula is YIG (yttrium iron garnet), and its Gilbert damping constant is α = 7.03 x 10^-4 GHz/Oe.\n",
      "\n",
      "Based on the given text, the Gilbert damping constant of the material \"galfenol\" is not explicitly mentioned. However, the authors do provide some information about the material's properties that can be used to estimate the Gilbert damping constant.\n",
      "\n",
      "According to the text, the galfenol thin films have a low residual linewidth of approximately ±HΔ131 0 Oe, which is a measure of the damping constant. The authors also mention that the effective damping parameter (αeff) is as low as -0.0065 for\n",
      "\n",
      "The material mentioned in the article is Permalloy (NiFe), which has the following molecular formula: NiFe.\n",
      "\n",
      "The Gilbert damping constant of Permalloy (NiFe) has been studied extensively in the literature, and the values reported vary depending on the specific experimental conditions and methodologies used. However, here are some typical values of the Gilbert damping constant (α) for Permalloy (NiFe):\n",
      "\n",
      "* α = 0.05 - 0.15 at room temperature [21,22]\n",
      "* α = 0.0\n",
      "\n",
      "\n",
      "The material in question is [NiFe(4nm)/WTi(0.9nm)] 25 multilayer.\n",
      "\n",
      "The Gilbert damping constant of this material is given by:\n",
      "\n",
      "α = 0.0171 ± 0.0001\n",
      "\n",
      "This value is obtained by fitting the data presented in Figure 7(b) of the paper using equation (2).\n",
      "\n",
      "Based on the given text, the Gilbert damping constant of the material RIG (Rare-earth iron garnet) is not explicitly mentioned. However, the text does provide some information about the Gilbert damping constant of other materials. For example, it is mentioned that the Gilbert damping constant of Co- and Si-substituted Lu 3Fe5-2xCoxSixO12 (LFCS) thin films is characterized through Ferrromagnetic Resonance (FMR) measurements, and that an exponential increase in the damping constant at low temperatures is\n",
      "\n",
      "The material in question is LuIG (Lutetium Iron Garnet) and its Gilbert damping constant is listed as 𝛼 = 8.8 × 10^-2.\n",
      "\n",
      "The material mentioned in the text is CrScCoZ, which consists of Chromium (Cr), Scandium (Sc), Cobalt (Co), and Zinc (Z). The Gilbert damping constant of this material is listed as α = 0.0076 at 300 K.\n",
      "\n",
      "Yes, the text provides the Gilbert damping constant for two materials:\n",
      "\n",
      "* Iron: K1 = 4.4 J/m^3, K2/K1 = 0.05, MS = 1714 Gauss, τ = 22 ps\n",
      "* Cobalt: K1 = 52 J/m^3, K2/K1 = 0.21, MS = 1422 Gauss, τ = 31 ps\n",
      "\n",
      "These values are listed in Table 1 of the text.\n",
      "\n",
      "Based on the provided text, the Gilbert damping constant of the material is not explicitly mentioned. However, we can infer some information about the material's Gilbert damping constant from the text.\n",
      "\n",
      "The text mentions the material's magnetic properties, including the saturation magnetization (Ms), gyromagnetic ratio (γ), magnetostriction coefficient (λS), Young's modulus (Y), and spin Hall angle (θSH). These properties are related to the material's magnetic behavior and can be used to estimate the Gilbert damping constant.\n",
      "\n",
      "The Gilbert damping constant\n",
      "\n",
      "The material in question is yttrium iron garnet (YIG) and its Gilbert damping constant is listed as 0.025 in the text. The molecular formula for YIG is YFe2O4.\n",
      "\n",
      "The material studied in the article is [Co/Ni] n multilayers. The Gilbert damping constant of this material is listed as α = 0.035 meV/cm in the article.\n",
      "\n",
      "The Gilbert damping constant of the material is not explicitly mentioned in the given text. However, based on the information provided, we can infer some details about the material's magnetic properties.\n",
      "\n",
      "The material being studied is a Pt(5)/[Co/Ni] n multilayer, where n is the number of bilayer periods. The X-ray diffraction (XRD) pattern shown in Figure 1 indicates that the material has a face-centered cubic (fcc) structure with a (111) texture, which is a necessary condition for the presence of the PMA\n",
      "\n",
      "\n",
      "Based on the analysis of the TR-MOKE spectra, the Gilbert damping constant (αeff) of the Pt(5)/[Co/Ni] multilayers was determined as a function of the period n. The results showed that for a fixed n, the value of αeff decreases with increasing H, and gradually approaches a constant value above 10 kOe. This suggests that the intrinsic damping component (α0) dominates the total damping constant at high fields.\n",
      "\n",
      "The theoretical field-dependent frequency (f) curves were well fitted to\n",
      "\n",
      "The material mentioned in the passage is Co (Cobalt), which has a Gilbert damping constant of approximately 0.025 rad/s.\n",
      "\n",
      "The material mentioned in the text is CrBr3. The Gilbert damping constant of CrBr3 can be calculated from the experimental data presented in the text as follows:\n",
      "\n",
      "From Figure 6(d), we see that the total magnetization of CrBr3 at 30 K shows a linear dependency with the applied field, indicating a Gilbert-type damping mechanism. By fitting the data using a linear equation, we obtain the damping constant of CrBr3 as:\n",
      "\n",
      "α = 0.009 ± 0.002\n",
      "\n",
      "This value represents the lower limit of\n",
      "\n",
      "\n",
      "Based on the given text, the Gilbert damping constant of Y3Fe5O12 (YIG) can be determined as follows:\n",
      "\n",
      "The Gilbert damping constant (α) is related to the magnetization dynamics of a material and is typically measured through the SSE effect. The authors of the paper mention that the Gilbert damping constant of YIG is small, indicating that the material has a high magnetic quality factor (Q). However, they do not provide a specific value for α in their study.\n",
      "\n",
      "Therefore, based on the literature review, we cannot determine the exact value of\n",
      "\n",
      "Based on the given text, the Gilbert damping constant of the material YIG (Yttrium Iron Garnet) is not explicitly mentioned. However, the paper discusses the Gilbert damping constant of YIG films with and without a Pt (Palladium) layer as a function of temperature (Ta).\n",
      "\n",
      "The Gilbert damping constant, α, is defined as the ratio of the magnetization decay rate to the magnetic field strength, and it is a measure of the magnetic anisotropy energy of a material. In the paper, the authors measure the Gilbert damping constant,\n",
      "\n",
      "Based on the given text, the Gilbert damping constant of a certain material (YIG) can be determined. The material's molecular formula is YIG (yttrium iron garnet).\n",
      "\n",
      "The Gilbert damping constant, α, is listed as 0.035 in the text for YIG films with a Pt layer (5 nm) and without a Pt layer (0 nm).\n",
      "\n",
      "Therefore, the corresponding material and its Gilbert damping constant are:\n",
      "Material: YIG (Yttrium Iron Garnet)\n",
      "Gilbert damping\n",
      "\n",
      "\n",
      "The Gilbert damping constant of the materials mentioned in the article are:\n",
      "\n",
      "* S1: α = 0.067 mrad/s\n",
      "* S2: α = 0.033 mrad/s\n",
      "* S3: α = 0.045 mrad/s\n",
      "\n",
      "These values are calculated by fitting the experimental data of the domain wall velocity vs. applied magnetic field (Hx) and pulsed magnetic field (Hz) using the creep law equation given in equation (10).\n",
      "\n",
      "The material used in the simulation is FeGe, and the corresponding Gilbert damping constant is α = 0.8.\n",
      "\n",
      "The material being studied in the article is Permalloy (Ni80Fe20), with the molecular formula Ni80Fe20. The Gilbert damping constant of Permalloy is given as α = 0.011 B T, where B is the Bohr magneton and T is the temperature in Kelvin. This value is mentioned in the passage as \"α0B01\".\n",
      "\n",
      "The material being studied in the article is a [Co/Pt multilayer]/[V, Zr]/CoFeB hard/soft composite structure. The Gilbert damping constant of this material is not explicitly mentioned in the article, but it can be inferred from the discussion section.\n",
      "\n",
      "According to the authors, the Gilbert damping constant of CoFeB is higher than that of Ta, which was previously reported to be beneficial for improving the TMR performance in hard/soft composite structures. However, they also mention that V and Zr have even lower damping than Ta, which\n",
      "\n",
      "The material studied in the paper is Co 2FeAl (CFA), which belongs to the class of Heusler alloys. The Gilbert damping constant (α) of CFA was not explicitly mentioned in the paper, but it can be calculated using the Landau-Lifshitz-Gilbert equation (Equation 1).\n",
      "\n",
      "The Gilbert damping constant (α) is related to the strength of the magnetic impurities and defects in the material, as well as the degree of disorder in the crystal structure. In general, materials with lower αvalues exhibit lower d\n",
      "\n",
      "Based on the given text, the material being studied is a ferromagnetic thin film on a silicon substrate. The Gilbert damping constant of this material is determined to be G = 0.03 Hz.\n",
      "\n",
      "The material's molecular formula is not explicitly mentioned in the text, but since it is a ferromagnetic thin film on a silicon substrate, it likely consists of a combination of iron and oxygen atoms, with the molecular formula Fe3O4.\n",
      "\n",
      "The material being studied in the article is a uniaxial single-domain ferromagnetic material. The Gilbert damping constant of this material is not explicitly mentioned in the text, but it can be calculated based on the assumptions made in the article.\n",
      "\n",
      "The Gilbert damping constant, α, is related to the magnetic susceptibility, χ, by the following equation:\n",
      "\n",
      "α = χ / (2πM_s)\n",
      "\n",
      "where M_s is the saturation magnetization of the material.\n",
      "\n",
      "Assuming that the magnetic moments of the particles in the system precess around\n",
      "\n",
      "Based on the provided text, the Gilbert damping constant of the material can be determined as follows:\n",
      "\n",
      "Material formula: Cu\n",
      "Gilbert damping constant: α = 2 × 10^(-6) S/m\n",
      "\n",
      "This value is mentioned in the text as \"Gilbert damping constant α ¼ 2⋅10/C02\" [29], where C0 is the reference length.\n",
      "\n",
      "Note that the value of α is not explicitly stated in the text, but it can be calculated based on the given information.\n",
      "\n",
      "The material being studied is a hybrid Fe/GaAs heterostructure. The Gilbert damping constant is not explicitly mentioned in the given text, but the authors do mention that they extracted an \"intrinsic damping parameter\" at high magnetic fields.\n",
      "\n",
      "The molecular formula for GaAs is GaAs, and the material formula for the hybrid structure is Fe/GaAs.\n",
      "\n",
      "The material being studied in the article is the Fe/GaAs hybrid structure. The Gilbert damping constant of this material is listed as α = 0.07 ± 0.01 at a magnetization relaxation time of 250 ps, with the external magnetic field applied along the [110] crystallographic direction.\n",
      "\n",
      "The material in question is Ta(10 nm)/NiFe( tFMnm)/IrMn(15 nm)/[NiFe(40 nm)/IrMn(15 nm)] 9/Ta(5 nm), where Ta is tantalum, NiFe is nickel-iron, and IrMn is iridium-manganese.\n",
      "\n",
      "The Gilbert damping constant of this material can be calculated using the Landau-Lifshitz-Gilbert (LLG) equation, which is given in the\n",
      "\n",
      "Yes, the text does give the Gilbert damping constant of a certain material. The material is NiFe, and its Gilbert damping constant is listed as α = 0.0126 in Table 3.\n",
      "\n",
      "\n",
      "Based on the given text, the Gilbert damping constant of the material can be determined for some of the samples listed. The Gilbert damping constant is related to the magnetic anisotropy energy and is a measure of the energy loss due to precessional motion of magnons (quasi-particles) in a magnetic material.\n",
      "\n",
      "For example, for the sample S2_700, the Gilbert damping constant is reported to be 0.009 ± 0.002, which means that the energy loss due to magnons precessing in this material\n",
      "\n",
      "Based on the given text, the Gilbert damping constant of the following materials can be listed:\n",
      "\n",
      "* Ta (Tantalum): α = 0.035 at TA = 200°C\n",
      "* Ru (Ruthenium): α = 0.06 at TA = 200°C\n",
      "* Pd (Palladium): α = 0.08 at TA = 200°C\n",
      "\n",
      "These values were obtained through measurements of the ferromagnetic resonance (FMR) spectra using a hom\n",
      "\n",
      "Yes, the text does give the Gilbert damping constant of a certain material. The material is CoFeB, and its Gilbert damping constant is given as α = (HC/H0)ζ, where HC is the coercive field, H0 = 6.833 × 10^-4 mT, and ζ = 2/3. This equation is derived from the plot of α vs. HC shown in Figure 3(b) of the paper.\n",
      "\n",
      "The material constant α in the Gilbert damping term of the Landau-Lifshitz-Gilbert equation is not explicitly mentioned in the given text. However, we can infer from the context that α is a material constant that determines the strength of the damping effect in the magnetization dynamics.\n",
      "\n",
      "The Landau-Lifshitz-Gilbert equation is given by:\n",
      "\n",
      "$$\\frac{dM}{dt} = - \\gamma M \\times H + \\alpha M \\times (M \\times H)$$\n",
      "\n",
      "where $M$ is the magnetization vector, $\\\n",
      "\n",
      "The material mentioned in the text is a ferromagnetic material, and the Gilbert damping constant is denoted as α. The value of α is not explicitly given in the text, but it is mentioned that it is a material-dependent constant.\n",
      "\n",
      "Based on the given text, the Gilbert damping constant of a material can be determined as follows:\n",
      "\n",
      "The Gilbert damping constant, α, is defined as the right-hand side of equation (33), which is given as:\n",
      "\n",
      "α = /integraldisplay\n",
      "R3/parenrightbig\n",
      "heff[m](t)dxdt\n",
      "\n",
      "where heff[m](t) is the effective field at time t, and m is the magnetization vector field.\n",
      "\n",
      "To determine the Gilbert damping constant for a specific material, one needs to know the form of the\n",
      "\n",
      "Based on the given text, the Gilbert damping constant of a material can be determined if the material's molecular formula is provided. However, the text does not explicitly mention the material's molecular formula. Therefore, I cannot provide the Gilbert damping constant of a specific material without additional information.\n",
      "\n",
      "The text discusses the dynamics of a skyrmion in the presence of a field pulse, and how the Gilbert damping constant affects the stability and dynamics of the skyrmion. The authors of the text use various numerical methods to simulate the dynamics of the skyrmion and observe the\n",
      "\n",
      "The material studied in the article is Co 2MnAl 1−xSnx, where x represents the concentration of Sn in the alloy. The Gilbert damping constant (α) of these films was measured using the ferromagnetic resonance (FMR) technique, and the results are listed below:\n",
      "\n",
      "* Co 2MnAl 0.25Sn0.75: α = 0.008\n",
      "* Co 2MnAl 0.5Sn0.5: α = 0.012\n",
      "* Co 2Mn\n",
      "\n",
      "Based on the information provided in the text, the Gilbert damping constant (α) for Co2MnAl 1-x Snx films can be calculated. The value of α depends on the composition of the film, and it is expressed as a function of the molecular formula of the material.\n",
      "\n",
      "For Co2MnAl 1-x Snx films, the Gilbert damping constant (α) can be estimated using the following formula:\n",
      "\n",
      "α = (γ - 1) / (2h) [17]\n",
      "\n",
      "where γ is the gyromagnetic ratio and\n",
      "\n",
      "Based on the provided text, the Gilbert damping constant of the material Pd1-xCox is not explicitly mentioned. However, the authors of the paper discuss the effect of chemical disorder on the anisotropic magnetoresistance (AMR) and anomalous Hall conductivity (AHC) of this material. They use a non-local torque approach to evaluate the Gilbert damping constant, which is found to be dependent on the Co-concentration x.\n",
      "\n",
      "The authors calculate the AMR and AHC values for disordered fcc-Pd1-xCox\n",
      "\n",
      "The material studied in the article is fcc-Pd1-xCox alloy, where x represents the concentration of Cobalt. The Gilbert damping constant of this material is listed as α = 0.464 for a completely disordered case (x = 0.5) and α = 0.473 for a partial L10-ordering case with S = 0.4. The concentration dependence of the Gilbert damping constant is shown in Figure 4, with empty circles representing the calculated values and filled circles representing the experimental data. The theoretical values of the Gilbert\n",
      "\n",
      "Based on the given text, the material being studied is a ferromagnetic heterostructure with the following molecular formula:\n",
      "\n",
      "Molecular Formula: FeMnO3\n",
      "\n",
      "The Gilbert damping constant of this material is given by:\n",
      "\n",
      "G = 0.5\n",
      "\n",
      "Note that the value of G is a dimensionless quantity, and it represents the strength of the magnetic damping mechanism in the material.\n",
      "\n",
      "The material mentioned in the passage is \"ferromagnets\" and the Gilbert damping constant is not explicitly mentioned. However, the passage does provide some information about the material properties that affect the Gilbert damping constant.\n",
      "\n",
      "The Gilbert damping constant, α, is related to the exchange interaction between the magnons (quantized spin waves) and the conduction electrons in the normal metal spacer. In general, the Gilbert damping constant depends on the material properties of the ferromagnetic layer, such as its magnetic moment, exchange interaction, and the spacer layer thickness.\n",
      "\n",
      "In the passage,\n",
      "\n",
      "The material being discussed in the passage is a ferromagnetic nanostrip. The Gilbert damping constant of this material is given by:\n",
      "\n",
      "$$\\alpha_G = \\frac{1}{2} \\left( \\frac{1}{c_1^2} + \\frac{1}{c_2^2} \\right)$$\n",
      "\n",
      "where $c_1$ and $c_2$ are the elastic constants of the material. Using the values provided in the passage, we have:\n",
      "\n",
      "$$\\alpha_G = \\frac{1}{2} \\left( \\frac{\n",
      "\n",
      "The material studied in this paper is a Pt/Co multilayer, specifically a [Pt tPt/CotCo/PttPt]N multilayer. The Gilbert damping constant of this material is not explicitly stated in the paper, but it can be inferred from the discussion of the magnetic parameters of the film.\n",
      "\n",
      "According to the paper, the Gilbert damping constant of the Pt/Co multilayer depends on the thickness of the Pt layers and the thickness of the Co layers. The authors find that the Gilbert damping constant increases with decre\n",
      "\n",
      "Yes, the article mentions the Gilbert damping constant of Fe4N. According to the article, the Gilbert damping constant of Fe4N is 0.021 ± 0.02, which is a relatively low value compared to other ferromagnetic materials. This suggests that Fe4N may be a promising candidate for use in spintronics devices due to its high spin polarization and low damping constant.\n",
      "\n",
      "The material studied in the text is CeYIG (Cerium-Yttrium Iron Garnet). The Gilbert damping constant (α) for CeYIG is listed as 2.5 x 10^-4 and 6.9 x 10^-4 for YIG (Yttrium Iron Garnet), which is the reference material. These values are obtained from the fit of the FMR (Ferromagnetic Resonance) lineshapes to a Lorentzian function.\n",
      "\n",
      "The material in question is yttrium iron garnet (YIG).\n",
      "\n",
      "The Gilbert damping constant of YIG is given as 0.35 mrad/Hz in the text.\n",
      "\n",
      "\n",
      "Based on the given text, the material being studied is CoFeB/MgO, and its Gilbert damping constant is approximately αeff = 0.02.\n",
      "\n",
      "The text mentions that the effective Gilbert damping constant αeff was estimated using the formula (2πftα)-1, where f is the precession frequency and t is the relaxation time. The value of αeff was found to be independent of the pump fluence under high external fields, but it decreases significantly under weak fields.\n",
      "\n",
      "The text also compares the Gilbert damping constant of the\n",
      "\n",
      "The material mentioned in the article is MgO/CoFeB/Ta. Its Gilbert damping constant is approximately 0.02.\n",
      "\n",
      "Yes, the text provides the Gilbert damping constant for several materials. Here are the materials and their corresponding Gilbert damping constants:\n",
      "\n",
      "1. YIG (SPS): α = 6.6 x 10^-5\n",
      "2. YIG (651): α = 7.2 x 10^-4\n",
      "3. YIG (631): α = 5.5 x 10^-4\n",
      "4. CeYIG: α = 8.5 x 10^-4\n",
      "\n",
      "Note that these values are given at 10 K and \n",
      "\n",
      "The material being studied in the given text is a permalloy film with dimensions 100 nm x 100 nm x 10 nm aligned with the x, y, and z axes of a Cartesian coordinate system, with the origin at the center of the film. The material parameters are the same as those in Section 5.3, except for the Gilbert damping constant, which is set to α = 0.1 for the simulation. The initial state is obtained by solving (3) with T = 0 and m0(x, y, z) = (−\n",
      "\n",
      "Based on the given text, the Gilbert damping constant of the material can be determined as follows:\n",
      "\n",
      "* For NiFe-Nd films, the Gilbert damping constant is -15, -16, -20, -30, -35, -11, -20, and -26 J/m^3, respectively, as shown in Table 1.\n",
      "* For NiFe-Tb films, the Gilbert damping constant is 30, 31, 9, 7, -32, -32, -3\n",
      "\n",
      "Based on the given text, the Gilbert damping constant (α) of the material is listed as 0.007, which corresponds to a molecular formula of Ni48.14Mn38.14Sn13.72.\n",
      "\n",
      "\n",
      "The material mentioned in the text is Ni-Mn-Sn, and its Gilbert damping constant is listed as α = 0.0076 ± 0.0007.\n",
      "\n",
      "The material mentioned in the article is Ni-Mn-Sn, and its Gilbert damping constant is listed as 0.0070 ± 0.0002. The molecular formula for Ni-Mn-Sn is NiMnSn.\n",
      "\n",
      "\n",
      "Based on the given text, the Gilbert damping constant of the material is not explicitly mentioned. However, we can calculate it based on the given information.\n",
      "\n",
      "The Gilbert damping constant (α) can be calculated using the following equation:\n",
      "\n",
      "α = 032H Hpp Δ + ω\n",
      "\n",
      "where HΔ is the field-swept FMR linewidth, and ω is the angular frequency of the microwave field.\n",
      "\n",
      "From the given text, we know that the field-swept FMR linewidth (HΔ) is approximately 1\n",
      "\n",
      "\n",
      "The Gilbert damping constant of the material is not explicitly mentioned in the given text. However, the text does provide some information about the Gilbert damping constants of the material under different compositions.\n",
      "\n",
      "From the text, we can infer that the extrinsic damping constant (β) increases from 0.039 for pure YIG NCs to 0.14 for BaM 0.7YIG 0.3 NCs, while the intrinsic damping constant (α) increases from 0.038 for pure YIG NPs to 0.\n",
      "\n",
      "The material studied in the paper is CoFeB/Ta bilayer films. The Gilbert damping constant of these films is found to decrease with increasing temperature and thickness within a certain range. The reasons for the enhanced damping in thinner films are attributed to spin-pumping effect, two-magnon scattering, and magnetic dead layer. From thickness-dependent data, the surface/interface anisotropy constant, bulk damping contribution, and surface/interface damping contribution are obtained. The results indicate that the bilayer films exhibit perpendicular anisotropy\n",
      "\n",
      "\n",
      "The material in question is CoFeB/Ta bilayers, and its Gilbert damping constant is approximately 0.00393 at 300 K. This value is calculated using the formula:\n",
      "\n",
      "α = (1/t) \\* (g2009 + g2912 + g2929 - g2869 - g3047)\n",
      "\n",
      "where t is the thickness of the CoFeB film, and the other terms are constants.\n",
      "\n",
      "This value is obtained by fitting the data shown in Figure 7,\n",
      "\n",
      "The material being studied is Co2MnSi, and its Gilbert damping constant is listed as a=0.0035.\n",
      "\n",
      "The material mentioned in the passage is Yttrium Iron Garnet (YIG). Its Gilbert damping constant (α) is listed as 3 × 10^-5.\n",
      "\n",
      "\n",
      "The material in question is YIG (Yttrium Iron Garnet) and its Gilbert damping constant is 2829 MHz/kOe at room temperature, as determined through ferromagnetic resonance (FMR) measurements. This value is listed in Figure 19(a) of the reference cited.\n",
      "\n",
      "The material being studied is yttrium iron garnet (YIG). The Gilbert damping constant of YIG thin films deposited on GGG(111) substrates was found to be 5.74 × 10^-4 at an oxygen gas pressure of 0.15 mbar during the growth process.\n",
      "\n",
      "The material mentioned in the article is a ferromagnetic thin film, and the Gilbert damping constant is denoted as α. The value of α is not explicitly stated in the article, but it is assumed to be non-zero in the context of the discussion.\n",
      "\n",
      "The material of interest in this passage is the Gilbert damping constant, which is mentioned in the context of the linear equation (2.1). The author mentions that the matrix A(x,t) is positive-definite and uniformly elliptic, which implies that it satisfies the conditions for the Gilbert damping model. Specifically, the Gilbert damping constant is given by:\n",
      "\n",
      "α = 1 / (4π) \\* ∫_{0}^{2π} A(x,t) dx\n",
      "\n",
      "where A(x,t) is the matrix of coefficients of the linear equation (2.\n",
      "\n",
      "Based on the given text, the Gilbert damping constant of a certain material can be determined as follows:\n",
      "\n",
      "* The material is a magnetic vortex with a Gilbert damping constant a and a molecular formula of C0.\n",
      "* The damping constant is related to the ratio of the magnetic field strength H0 to the polarization vector p, as shown in Equation (1): a = (2pqpLM s/g,i n)/C0Gz^.\n",
      "* The value of a can be determined by plotting the trajectories of the vortex core gyrotrop\n",
      "\n",
      "The material mentioned in the text is [Co/Pt]n, where n is the number of Pt layers deposited on top of a Co layer. The Gilbert damping constant of this material is not explicitly stated in the text, but it can be inferred from the data presented in Figure 6.\n",
      "\n",
      "According to the figure, the Gilbert damping constant, denoted by α, decreases with increasing Co layer thickness. Using the micromagnetic simulation results, the authors of the paper fitted the experimental data to extract the Gilbert damping constant for different Co layer thicknesses. The resulting\n"
     ]
    }
   ],
   "source": [
    "results = []\n",
    "\n",
    "for i in data:\n",
    "    input_prompt = generate_prompt(i['content'])\n",
    "    input_tokens = tokenizer(input_prompt, return_tensors=\"pt\")[\"input_ids\"].to(\"cuda\")\n",
    "    with torch.cuda.amp.autocast():\n",
    "        generation_output = model.generate(\n",
    "            input_ids=input_tokens,\n",
    "            max_new_tokens=128,\n",
    "            do_sample=True,\n",
    "            top_k=5,\n",
    "            top_p=0.9,\n",
    "            temperature=0.2,\n",
    "            repetition_penalty=1.1,\n",
    "            num_return_sequences=1,\n",
    "            eos_token_id=tokenizer.eos_token_id,\n",
    "        )\n",
    "    op = tokenizer.decode(generation_output[0], skip_special_tokens=True)\n",
    "    #print(op)\n",
    "    \n",
    "    inst_index = op.find('[/INST]')\n",
    "    \n",
    "    if inst_index != -1:\n",
    "        print(op[inst_index + len('[/INST]'):])\n",
    "        results.append(op[inst_index + len('[/INST]'):])\n",
    "    else:\n",
    "        print(\"未找到'[/INST]'标记\")"
   ]
  },
  {
   "cell_type": "code",
   "execution_count": 16,
   "id": "c412a0ca-3306-4080-bbe0-68a5a0c50e4f",
   "metadata": {},
   "outputs": [
    {
     "name": "stdout",
     "output_type": "stream",
     "text": [
      "\n",
      "The material being discussed is Co/Ni multilayers, and the Gilbert damping constant is listed as /48/51/53.\n",
      "\n",
      "The material being studied is a Pt/Py/Pt trilayer, and the Gilbert damping constant available is α= 0.13 × 1015Ω−1·m−2.\n"
     ]
    },
    {
     "name": "stderr",
     "output_type": "stream",
     "text": [
      "This is a friendly reminder - the current text generation call will exceed the model's predefined maximum length (4096). Depending on the model, you may observe exceptions, performance degradation, or nothing at all.\n"
     ]
    },
    {
     "name": "stdout",
     "output_type": "stream",
     "text": [
      "\n",
      "The article discusses the Gilbert damping constant of layered magnetic films deposited on a substrate. The authors measure the frequency shift of the films using a ferromagnetic resonance (FMR) technique and find that it is related to the interface spin-pumping effect. They also analyze the X-ray diffraction patterns of the films and find that the crystal structure of the film affects the Gilbert damping constant. The authors compare their results with previous studies and find that the Gilbert damping constant varies with the interface structure.\n",
      "\n",
      "The article starts by stating that the Gilbert damping\n",
      "\n",
      "108. 10030 \n",
      "10 \n",
      "Magnet Љ108 Ћ1080 Ъ Љ Џ Љ Ъ Љ Љ Ћ Љ Ћ Љ Ъ Љ Љ Љ Љ Љ Љ Љ Ъ Љ Љ Ъ Ћ Љ Љ Љ Љ Љ Љ Љ Ћ Ћ Љ Љ Ћ Љ Љ Љ .\n",
      " 10 10 0 10 10 0 0\n",
      "\n",
      "The article discusses the effect of growth sequence on the Gilbert damping constant in Ta/CoFeB/MgO structures. The authors found that the Gilbert damping constant was modulated by reversing the stack sequence, with an enhancement from 0.017 to 0.027. They attribute this enhancement to the increase of intermixing at the CoFeB/Ta interface when the Ta atom layer was grown after the CoFeB layer. The study demonstrates the potential to tune the damping parameter by the growth sequence, which is crucial for reducing the\n",
      "\n",
      "\n",
      "In this paper, we report the results of all-optical TRMOKE measurements performed on Ta/CoFeB/MgO and Ta/CoFeB/MgO samples. The goal is to investigate the ultrafast magnetization precession in perpendicularly magnetized substrate, and to analyze the Gilbert damping constant. We used a \n",
      "Ta thin film with a thickness of around 1 nmagnitude of the magnetization precession is observed at a small signal is observed at a \n",
      "\n",
      "\n",
      "\n",
      "\n",
      "\n",
      "\n",
      "\n",
      "\n",
      "\n",
      "\n",
      "\n",
      "\n",
      "\n",
      "\n",
      "\n",
      " \n",
      " 0.0.0.075 0.07\n",
      "0.07. \n",
      "0.07. \n",
      "0.07.07.07.07.08. 07.07.07.07.07.08.07.07.07.07.07.07.07.07.07.07.07.07.07.07.07.07.07.07.07.07.\n",
      "\n",
      "The material's molecular formula is FePt, and the Gilbert damping constant is listed as α = 0.1 in the article.\n",
      "\n",
      "The material is a FePt granular recording medium, and its Gilbert damping constant is 693.5 nanohenries. The grain size is 5 nanometers and 7 nanometers. The simulation results show that the damping constant has a significant impact on the servo-write head's ability to record data. By increasing the damping constant from 0.02 to 0.5, the SNR improves by 3.66 decibels for 5-nanometer grains and 1.65 decibels for\n",
      "\n",
      "The article discusses the Gilbert damping constant of a particular substance, which affects the recording efficiency of magnetic media. The study uses the material's molecular formula to determine the Gilbert damping constant, which is essential for understanding the recording process. The research shows that altering the damping constant raises the recording quality, leading to a higher signal-to-noise ratio (SNR). The study also investigates how changing the field duration and head velocity affects the SNR.\n",
      "\n",
      "The study concludes that the SNR decreases when the damping constant increases, indicating that reducing\n",
      "\n",
      "Yes, the article mentions the Gilbert damping constant for several materials. Here are the materials and their corresponding Gilbert damping constants:\n",
      "\n",
      "1. L10-FePt thin films: The article states that the Gilbert damping constant (γ) for L10-FePt thin films is around 0.01-0.02. Reference: [26]\n",
      "2. Ni/81Fe/19 thin films: The article mentions that the Gilbert damping constant (γ) for Ni/81Fe/19 thin films is around 0.0\n",
      "\n",
      "Yes, the text does give the Gilbert damping constant of a material. The material is Co2MnSi, and its Gilbert damping constant is listed as 0.0008.\n",
      "\n",
      "The material being studied is CoFeB, and its Gilbert damping constant is listed as α = 0.026 mrad/GHz.\n",
      "\n",
      "The material's molecular formula is Zr, and its Gilbert damping constant is α = 0.01.\n",
      "\n",
      "The material of the Ni nanowires is not explicitly mentioned in the text, but based on the context, it is likely that the material being referred to is Nickel (Ni). Therefore, the Gilbert damping constant of the Ni nanowires can be calculated using the following formula:\n",
      "\n",
      "α = (H0 / Ms) \\* (1 / (γ \\* f))\n",
      "\n",
      "where:\n",
      "\n",
      "* H0 is the applied magnetic field strength\n",
      "* Ms is the saturation magnetization of the material\n",
      "* γ is the gyromagnetic ratio of the material\n",
      "* f is\n",
      "\n",
      "The Gilbert damping constant (Gamma) of the Ni nanowire material is listed as 0.43 memu (milligauss) in the text.\n",
      "\n",
      "The material of the Ni NWs is Nickel.\n",
      "The Gilbert damping constant of the Ni NWs is 0.21.\n",
      "\n",
      "The material's Gilbert damping constant is Ni (gyromagnetic ratio is 4.2 x 10^-4 rad/Oe, anisotropy energy is 1.3 x 10^-19 J/m^3, and saturation magnetization is 2.2 x 10^5 A/m).\n",
      "\n",
      "The material being studied is a ferromagnetic thin film, and the Gilbert damping constant being discussed is αeff. The value of αeff is found to depend on the strength of the external magnetic field Hconstant, with a decrease in αeff as the field strength increases. The minimum value of αeff/C240.008 is observed when Hconstant exceeds the demagnetization field value of approximately 10 kOe. The study also shows that the extrinsic damping in the film can be reduced by adjusting the sample size, external bias field, position, and area of observation\n",
      "\n",
      "The material being studied is a micrometer length scale thin film, and the Gilbert damping constant is being referred to as αeff. The value of αeff is 0.008, which is the intrinsic value. The experiment was conducted using a GPU based simulation program, Mumax 3, and the results show that additional extrinsic damping modes at the edge region can cause αeff to be larger than the intrinsic value. To precisely determine αeff in micron-length scale patterned thin films, it is important to consider the following factors:\n",
      "\n",
      "1. Large samples should\n",
      "\n",
      "The material being studied is Tb(4 nm)/Cr( tnm)/Fe(5 nm) trilayers. The Gilbert damping constant, α, is listed as 13.5 × 10^-4 rad/s in the text.\n",
      "The molecular formula for Tb is Thulium (Tm), with an atomic number of 64 and an atomic mass of 168.93 amu.\n",
      "The thicknesses of the layers in the trilayers are given in nm: Tb = 4 nm, Cr = t\n",
      "\n",
      "The material of interest is Tb(4 nm)/Cr(tnm)/Fe(5 nm) thin films. The Gilbert damping constant of this material can be calculated using the formula:\n",
      "\n",
      "α = (4πMeff - 2K1/Ms) / γ\n",
      "\n",
      "where Meff is the saturation magnetization, K1 is the second-order perpendicular anisotropy constant, and γ is the gyromagnetic ratio.\n",
      "\n",
      "From the experimental data presented in the paper, the values of Meff, K1, and γ can be calculated\n",
      "\n",
      "The material of interest is YIG (Yttrium Iron Garnet), with the chemical formula Y3Fe5O12. The Gilbert damping constant of this material was investigated as a function of microstructure, specifically the annealing temperature, in nanocrystalline YIG coatings prepared by co-precipitation, spin-coating, and annealing processes. The results showed that the value of αincreases from 2.7 x 10^-2to 1.2 x 10^-1when the annealing temperature T increases from 10\n",
      "\n",
      "The material is YIG (Yttrium Iron Garnet) and the estimated Gilbert damping constant is α = 1.2 x 10^-2.\n",
      "\n",
      "The article discusses the Gilbert damping constant of chemically prepared nanocrystalline yttrium iron oxide (YIG) coatings as a function of annealing temperature. The study aimed to investigate the effect of microstructural evolution on the Gilbert damping constant. The analysis was conducted using vs. molecular formula, and the results were presented in terms of the material's molar mass. The study concluded that the Gilbert damping constant increases with increasing temperature, indicating enhanced gaps and interfaces between grains and voids between grains. The value of α was calculated using\n",
      "\n",
      "The Gilbert damping constant of a Co/50MnAl Heusler alloy film was investigated, and the value was found to decrease with increasing annealing temperature. The minimum value of 0.007 was observed at 300°C. The degree of B2 order in the film was found to sensitively affect the Gilbert damping constant.\n",
      "\n",
      "According to the paper, the Gilbert damping constant of polycrystalline CoFe thin films can be reduced by field annealing. The effective damping constant is found to decrease significantly after field annealing, with a reduction of more than 2 times compared to the sample without annealing. Additionally, the inhomogeneous linewidth broadening is also found to reduce significantly after field annealing. The paper does not provide the specific value of the Gilbert damping constant for the sample without annealing, but based on the results presented, it can be inferred that the d\n",
      "\n",
      "Based on the given text, the Gilbert damping constant of CoFe can be calculated as follows:\n",
      "\n",
      "Gilbert damping constant (γ) = 0.003 (Ref. [20])\n",
      "\n",
      "where γ is the damping constant in units of rad/s, and Ref. [20] is the reference material used in the study.\n",
      "\n",
      "From the text, we can see that the effective damping of CoFe decreases with increasing annealing temperature, and the minimum value of effective damping is achieved at an annealing temperature of \n",
      "\n",
      "\n",
      "The material being studied is IrMn, a ferromagnetic material with a Gilbert damping constant of approximately 0.013. The study compares the effective damping of IrMn with other materials and discusses the role of exchange bias and interfacial roughness in affecting the damping. The results show that the effective damping of IrMn is significantly lower than that of other materials, likely due to the intrinsic properties of the material. The study also highlights the importance of considering the direction of the magnetic field when measuring the damping, as the direction\n"
     ]
    }
   ],
   "source": [
    "for i in data:\n",
    "    input_prompt = generate_prompt(i['content'])\n",
    "    input_tokens = tokenizer(input_prompt, return_tensors=\"pt\")[\"input_ids\"].to(\"cuda\")\n",
    "    with torch.cuda.amp.autocast():\n",
    "        generation_output = model.generate(\n",
    "            input_ids=input_tokens,\n",
    "            max_new_tokens=128,\n",
    "            do_sample=True,\n",
    "            top_k=5,\n",
    "            top_p=0.9,\n",
    "            temperature=0.2,\n",
    "            repetition_penalty=1.1,\n",
    "            num_return_sequences=1,\n",
    "            eos_token_id=tokenizer.eos_token_id,\n",
    "        )\n",
    "    op = tokenizer.decode(generation_output[0], skip_special_tokens=True)\n",
    "    #print(op)\n",
    "    \n",
    "    inst_index = op.find('[/INST]')\n",
    "    \n",
    "    if inst_index != -1:\n",
    "        print(op[inst_index + len('[/INST]'):])\n",
    "        results.append(op[inst_index + len('[/INST]'):])\n",
    "    else:\n",
    "        print(\"未找到'[/INST]'标记\")"
   ]
  },
  {
   "cell_type": "code",
   "execution_count": 14,
   "id": "db86e439-18fb-4c92-acad-eb056cb39190",
   "metadata": {},
   "outputs": [],
   "source": [
    "with open('results.txt', 'w', encoding='utf-8') as f: \n",
    "    f.write('\\n'.join(map(str, results)))"
   ]
  },
  {
   "cell_type": "code",
   "execution_count": 19,
   "id": "c00bdbd1-cbb4-40cf-b95e-f5722de31bb2",
   "metadata": {},
   "outputs": [
    {
     "name": "stdout",
     "output_type": "stream",
     "text": [
      "[INST] <<SYS>> You are a helpful assistant, always answer as helpfully as possible.\n",
      " If a question does not make any sense, or is not factually coherent, explain why instead of answering something not correct. If you don't know the answer to a question, please don't share false information.<</SYS>>\n",
      " Read the following text. Does it mention the Gilbert damping constant of a certain material? If so, list the corresponding material and its Gilbert damping canstant.\n",
      "Accepted Manuscript\n",
      "The effect of growth sequence on magnetization damping in Ta/Co FeB/MgO\n",
      "structures\n",
      "Bo Liu, Dawei Huang, Ming Gao, Hongqing Tu, Kejie Wang, Xuezhon g Ruan,\n",
      "Jun Du, Jian-Wang Cai, Liang He, Jing Wu, Xinran Wang, Yongbing  Xu\n",
      "PII: S0304-8853(17)31838-3\n",
      "DOI: http://dx.doi.org/10.1016/j.jmmm.2017.08.069\n",
      "Reference: MAGMA 63103\n",
      "To appear in: Journal of Magnetism and Magnetic Materials\n",
      "Received Date: 15 June 2017\n",
      "Revised Date: 22 August 2017\n",
      "Accepted Date: 23 August 2017\n",
      "Please cite this article as: B. Liu, D. Huang, M. Gao, H. Tu, K . Wang, X. Ruan, J. Du, J-W. Cai, L. He, J. Wu, X.\n",
      "Wang, Y. Xu, The effect of growth  sequence on magnetization dam ping in Ta/CoFeB/MgO structures, Journal of\n",
      "Magnetism and Magnetic Materials  (2017), doi: http://dx.doi.org/10.1016/j.jmmm.2017.08.069\n",
      "This is a PDF file of an unedited manuscript that has been acce pted for publication. As a service to our customers\n",
      "we are providing this early version of the manuscript. The manu script will undergo copyediting, typesetting, and\n",
      "review of the resulting proof be fore it is published in its fin al form. Please note that during the production process\n",
      "errors may be discovered which could affect the content, and al l legal disclaimers that app ly to the journal pertain.  The effect of growth sequence on magnetization damp ing in \n",
      "Ta/CoFeB/MgO structures \n",
      " \n",
      "Bo Liu,a† Dawei Huang,a† Ming Gao,a Hongqing Tu,b Kejie Wang,a Xuezhong \n",
      "Ruan,a,* Jun Du,b Jian-Wang Cai,c,* Liang He,a Jing Wu,d Xinran Wang,a and \n",
      "Yongbing Xua,d,* \n",
      " \n",
      "aJiangsu Provincial Key Laboratory of Nanotechnology , Collaborative Innovation \n",
      "Center of Advanced Microstructures, School of Elect ronic Science and Engineering, \n",
      "Nanjing University, Nanjing 210093, People’s Republ ic of China \n",
      "bDepartment of Physics, Nanjing University, Nanjing 210093, People’s Republic of \n",
      "China \n",
      "cBeijing National Laboratory for Condensed Matter Ph ysics, Institute of Physics, \n",
      "Chinese Academy of Sciences \n",
      "dYork-Nanjing International Center in Spintronics (Y NICS), Department of \n",
      "Electronics and Physics, The University of York, Yo rk YO10 5DD, UK \n",
      " \n",
      "E-mail: xzruan@nju.edu.cn, jwcai@aphy.iphy.ac.cn an d ybxu@nju.edu.cn \n",
      " \n",
      "Keywords: reversed stack structures, perpendicular magnetic a nisotropy , Gilbert \n",
      "damping constant \n",
      " \n",
      " \n",
      " \n",
      "   Abstract: \n",
      "Magnetization damping is a key parameter to control  the critical current and the \n",
      "switching speed in magnetic random access memory, a nd here we report the effect of \n",
      "the growth sequence on the magnetic dynamics proper ties of perpendicularly \n",
      "magnetized Ta/CoFeB/MgO structures. Ultrathin CoFeB  films have been grown \n",
      "between Ta and MgO but with different stack sequenc es, i.e. \n",
      "substrate/Ta/CoFeB/MgO/Ta and substrate/Ta/MgO/CoFe B/Ta. The magnetization \n",
      "dynamics induced by femtosecond laser was investiga ted by using all-optical \n",
      "pump-probe measurements. We found that the Gilbert damping constant was \n",
      "modulated by reversing stack structures, which offe rs the potential to tune the \n",
      "damping parameter by the growth sequence. The Gilbe rt damping constant was \n",
      "enhanced from 0.017 for substrate/Ta/CoFeB/MgO/Ta t o 0.027 for \n",
      "substrate/Ta/MgO/CoFeB/Ta. We believe that this enh ancement originates from the \n",
      "increase of intermixing at the CoFeB/Ta when the Ta  atom layer was grown after the \n",
      "CoFeB layer. \n",
      " \n",
      "1. Introduction \n",
      "Current-induced spin-transfer torque (STT) is very important in high density \n",
      "magnetic media and spintronics devices[1-5]. Regard ing the energy consumption, it is \n",
      "critcal to find out the method to reduce the critic al current that switches the spin \n",
      "direction in STT-MRAM application. The perpendicula r magnetic anisotropy \n",
      "materials, such as L 10-ordered Fe -Pt alloys and Co/Pd multilayers integrated into    magnetic tunnel junction (MTJ) [6,7] , enable a small critical current density for \n",
      "current -induced magnetization switching [8-11]. According to S. Mangin et al[6], the \n",
      "current density /g1836/g3004/g°868 is proportional to the Gilbert damping constant α and effective \n",
      "magnetic anisotropic energy /g1837/g3048/g303°/g3033/g3033. Therefore, either decreasing the damping values \n",
      "or magnetic anisotropy energy is required to reduce  the critical current. However, \n",
      "considering the thermal stability of the MTJ device s, we cannot decrease the \n",
      "anisotropy energy too much. Thus, it is a better ch oice to reduce the damping constant \n",
      "and at the same time, relatively high magnetic anis otropy energy is preferable. The \n",
      "high perpendicular magnetic anisotropy materials su ch as L10-FePt and Co/Pt \n",
      "multilayers[7-10] that are integrated into the magn etic tunnel junction (MTJ) [11,12] \n",
      "are reported to both have low damping constant and relative high thermal stability. \n",
      "These materials are found to be in the good balance  of thermal stability and low \n",
      "damping constant. Furthermore, with the decrease of  the size of magnetic tunnel \n",
      "junction, the low power consumption denoted by ther mal sta bility factor ∆, which is \n",
      "proportional to the /g1837/g3048/g303°/g3033/g3033, is an indispensable item. Increasing /g1837/g3048/g303°/g3033/g3033 to keep ∆ \n",
      "sufficiently large is crucial. The optimization of the Gilbert damping constant α is \n",
      "critial to achieve a higher thermal stability and a  lower threshold current density [13]. \n",
      "A major breakthrough in MRAM is the discovery of th e perpendicularly magnetized \n",
      "CoFeB films sandwiched by MgO and Ta layers, which exhibit not only \n",
      "perpendicular magnetic anisotropy, but also moderat e magnetic damping \n",
      "constant[14,15]. \n",
      "In this paper, we report the effect of the stack gr owth sequence on the Gilbert   damping constants in the Ta/CoFeB/MgO structures gr own by sputtering. A \n",
      "time-resolved optical pump-probe technique was used  to investigate the precessional \n",
      "dynamics and the magnetization damping. We have obs erved a remarkable difference \n",
      "of the damping constants between the samples grown with different stack sequences. \n",
      "The experimental results clearly demonstrate that s tack growth sequence plays a key \n",
      "role in controlling damping values. . \n",
      " \n",
      "2. Methods \n",
      "We prepared two sets of samples: substrate/Ta (5)/C oFeB (1)/MgO (3)/Ta (5) \n",
      "named as sample A and substrate/Ta (5)/MgO (3)/CoFe B (1)/Ta (5) named as sample \n",
      "B (numbers are thickness in nanometers). The cappin g layer and Co 40Fe40B20 films \n",
      "were deposited on Si (001)/SiO 2 substrates by dc sputtering, whereas the MgO layer  \n",
      "was deposited by rf sputtering. The background vacu um was about 4×10/g°87−/g°873 Pa and \n",
      "the working argon pressure was 0.5 Pa. After the th in film was deposited, a \n",
      "post-annealing process at 300 ℃ in vacuum ( 4×10/g°87−/g°873 Pa) was performed for half \n",
      "an hour on both of the samples. Static magnetic pro perties were obtained by using a \n",
      "vibrating sample magnetometer(VSM). The surface mor phology and roughness were \n",
      "analyzed by atomic force microscopy (AFM). The femt osecond pulse train generated \n",
      "by a Ti: sapphire laser with a pulse duration of 50  fs and a repetition rate of 1 kHz \n",
      "was divided into pump and probe pulse beam. The pum p pulse beam with a fluence of \n",
      "3.54 mJ /g1855/g1865/g°870/uni°044  was focused to a spot of ~600 µm in diameter on the sample to excite \n",
      "the magnetization precession, while the probe pulse  beam with a fluence of 0.06   mJ /g1855/g1865/g°870/uni°044  was focused to a spot size of ~200 µm in diameter and overlapped with the \n",
      "pump laser spot on the sample surface [16-20]. The Kerr rotation of reflected probe \n",
      "pulse beam was detected by a balanced detector. A m echanical delay line was used to \n",
      "generate time delay between pump and probe pulse be ams. The magnetization \n",
      "dynamics was studied by time-resolved magneto-optic al Kerr effect (TRMOKE) \n",
      "measurements. A variable magnetic field was applied  at an angle of 30° from the \n",
      "sample plane resulting in a cant of the magnetizati on away from the normal of the \n",
      "film. All presented results were obtained at room t emperature unless otherwise \n",
      "specified. \n",
      " \n",
      "3. Results and discussion \n",
      "The magnetic hysteresis loops of sample A and sampl e B were measured with \n",
      "the in-plane and perpendicular magnetic fields usin g VSM and displayed in Fig.  1(a) \n",
      "and (b), respectively. The results display a simila r coercivity ( /g1834/g3030) and saturation \n",
      "magnetization ( /g183−/g3046) between two samples with  /g1834/g3030=5.31  Oe and /g183−/g3046=\n",
      "890/uni000−emu /g1855/g1865/g°871/uni°044  for sample A, /g1834/g3030=5.66  Oe and /g183−/g3046=836/uni000−emu /g1855/g1865/g°871/uni°044  for sample \n",
      "B. The Hc is defined along the easy axis that is ou t-of-plane [21-23]. \n",
      "The AFM images of the sample A and sample B are sho wn in Fig. 2(a) and (b), \n",
      "respectively. The root-mean-square (RMS) of the sur face roughness is about 0.83 nm \n",
      "for sample A and about 1.11 nm for sample B, respec tively, which suggests that the \n",
      "underlayer Ta below CoFeB in sample A might lead to  a reduction of the surface \n",
      "roughness. However, we found little difference of t he /g1837/g3048/g303°/g3033/g3033 defined by H/g°−°1M/g°−°−/2   between two samples with 1.24 Merg /g1855/g1865/g°871/uni°044  for sample A and 1.25 Merg /g1855/g1865/g°871/uni°044  for \n",
      "sample B, which suggests that the surface roughness  has not changed dramatically the \n",
      "static magnetic properties, such as the saturation magnetization and the effective \n",
      "anisotropy field. More specifically, the effective anisotropy field here mainly arises \n",
      "from the interfacial perpendicular anisotropy [8]. \n",
      "In pump-probe measurements, the pump laser pulse cr eated a thermal excitation \n",
      "of the electron/spin system leading to an ultrafast  demagnetization. The magnetic \n",
      "order started to recover as electron/spin-transferr ed energy to lattice and reached a \n",
      "new electron/lattice/spin equilibrium within a few picoseconds. As the heat further \n",
      "diffused into the surrounding area and down to the substrate, the magnetization was \n",
      "partially recovered. Following the recovery of the magnetization, the magnetic \n",
      "anisotropy was also recovered, leading to a rise of  [/INST]\n",
      "The article discusses the effect of growth sequence on the Gilbert damping constant in Ta/CoFeB/MgO structures. The authors find that the Gilbert damping constant is modulated by reversing the stack sequence, with an enhancement from 0.017 to 0.027. They attribute this increase to the increase of intermixing at the CoFeB/Ta interface due to the growth of Ta after CoFeB deposition. The study demonstrates the importance of understanding the effects of growth sequence on magnetic properties in perpendicularly magnetized materials for improving their\n"
     ]
    }
   ],
   "source": [
    "input_prompt = generate_prompt(data[4]['content'])\n",
    "input_tokens = tokenizer(input_prompt, return_tensors=\"pt\")[\"input_ids\"].to(\"cuda\")\n",
    "with torch.cuda.amp.autocast():\n",
    "  generation_output = model.generate(\n",
    "      input_ids=input_tokens,\n",
    "      max_new_tokens=128,\n",
    "      do_sample=True,\n",
    "      top_k=10,\n",
    "      top_p=0.9,\n",
    "      temperature=0.3,\n",
    "      repetition_penalty=1.15,\n",
    "      num_return_sequences=1,\n",
    "      eos_token_id=tokenizer.eos_token_id,\n",
    "    )\n",
    "op = tokenizer.decode(generation_output[0], skip_special_tokens=True)\n",
    "print(op)"
   ]
  },
  {
   "cell_type": "code",
   "execution_count": 11,
   "id": "d73243da-ca25-4bf5-9cd2-1c7551481895",
   "metadata": {},
   "outputs": [
    {
     "name": "stdout",
     "output_type": "stream",
     "text": [
      "[INST] <<SYS>> You are a helpful, respectful and honest assistant. Always answer as helpfully as possible.\n",
      " If a question does not make any sense, or is not factually coherent, explain why instead of answering something not correct. If you don't know the answer to a question, please don't share false information. <</SYS>>\n",
      " There's a llama in my garden 😱 What should I do? [/INST]  Oh, wow! A llama in your garden? That's quite an unexpected surprise! 😂 While llamas can be fascinating creatures, they may not necessarily be the best guests in your garden. Here are some steps you could consider:\n",
      "\n",
      "1. Observe from a safe distance: Before doing anything, take a moment to observe the llama from a safe distance. Check if it's causing any damage or posing a threat to yourself or others.\n",
      "2. Contact local authorities: If the llama appears lost or injured, contact your local animal control agency or a nearby wildlife sanctuary for assistance. They will have the necessary expertise and equipment to safely handle the situation.\n",
      "3. Provide food and water: If the llama seems healthy and content, but just accidentally wandered into your garden, you could try providing it with some food and water. However, please ensure that the food you offer is safe and non-toxic for the llama to consume.\n",
      "4. Keep a safe distance: Remember, llamas are large animals and can be unpredictable at times. Keep a safe distance and avoid approaching the llama too closely, especially if it feels threatened or scared.\n",
      "5. Consider calling a professional: If you're unsure how to handle the situation or if the llama doesn't seem to want to leave on its own, consider hiring a professional animal control service to safely remove the llama from your property.\n",
      "\n",
      "Remember, it's important to prioritize safety above all else when dealing with unexpected visitors like llamas in your garden!\n"
     ]
    }
   ],
   "source": [
    "input_prompt = \"<s>[INST] <<SYS>> You are a helpful, respectful and honest assistant. Always answer as helpfully as possible.\\n If a question does not make any sense, or is not factually coherent, explain why instead of answering something not correct. If you don't know the answer to a question, please don't share false information. <</SYS>>\\n There's a llama in my garden 😱 What should I do? [/INST]\"\n",
    "input_tokens = tokenizer(input_prompt, return_tensors=\"pt\")[\"input_ids\"].to(\"cuda\")\n",
    "with torch.cuda.amp.autocast():\n",
    "  generation_output = model.generate(\n",
    "      input_ids=input_tokens,\n",
    "      max_new_tokens=2000,\n",
    "      do_sample=True,\n",
    "      top_k=10,\n",
    "      top_p=0.9,\n",
    "      temperature=0.3,\n",
    "      repetition_penalty=1.15,\n",
    "      num_return_sequences=1,\n",
    "      eos_token_id=tokenizer.eos_token_id,\n",
    "    )\n",
    "op = tokenizer.decode(generation_output[0], skip_special_tokens=True)\n",
    "print(op)"
   ]
  },
  {
   "cell_type": "code",
   "execution_count": 2,
   "id": "dc9148cc-49d4-4e74-bc10-1a8ef0788108",
   "metadata": {},
   "outputs": [
    {
     "data": {
      "application/vnd.jupyter.widget-view+json": {
       "model_id": "6571e92097dc47218013a0b68014f335",
       "version_major": 2,
       "version_minor": 0
      },
      "text/plain": [
       "Loading checkpoint shards:   0%|          | 0/2 [00:00<?, ?it/s]"
      ]
     },
     "metadata": {},
     "output_type": "display_data"
    },
    {
     "name": "stderr",
     "output_type": "stream",
     "text": [
      "Special tokens have been added in the vocabulary, make sure the associated word embeddings are fine-tuned or trained.\n"
     ]
    }
   ],
   "source": [
    "model_name = \"meta-llama/Llama-2-7b-hf\"\n",
    "model = AutoModelForCausalLM.from_pretrained(model_name,\n",
    "                                             torch_dtype=torch.bfloat16,\n",
    "                                             device_map=\"auto\"\n",
    "                                            )\n",
    "tokenizer = AutoTokenizer.from_pretrained('results/checkpoint-19500')\n",
    "model.resize_token_embeddings(len(tokenizer))\n",
    "\n",
    "model.load_adapter('results/checkpoint-19500')"
   ]
  },
  {
   "cell_type": "code",
   "execution_count": 4,
   "id": "94f68fc9-962f-4f5f-8c74-739fb4e2dc70",
   "metadata": {},
   "outputs": [
    {
     "name": "stdout",
     "output_type": "stream",
     "text": [
      "Dataset({\n",
      "    features: ['title', 'doi', 'abstract', 'publicationDate'],\n",
      "    num_rows: 165071\n",
      "})\n",
      "Dataset({\n",
      "    features: ['title', 'abstract', 'publicationDate'],\n",
      "    num_rows: 559\n",
      "})\n",
      "The abstract of the paper:\n",
      " Inconel 625 sustainable milling surface integrity and the dependence on alloy processing route\n",
      " Abstract: The discovery of deepwater oil and gas sources has altered the scenario of world production of oil products, attracting even more attention to nickel superalloys. However, this class of materials can be used in several applications. Furthermore, nickel superalloys are highly dependent on their processing history, and the manner in which superalloys react to machining can directly affect the finished product. This work aims to evaluate the surface integrity of two different materials after cryogenic side-milling in conditions that stimulate severe plastic deformation (SPD) and high heat generation. The results show that the material response to machining depends strongly on the pre-processing route instead of most assumptions. While cryogenic cooling led to significant sub-surface hardness and microstructural changes in wrought Inconel 625 alloy, such changes were not observed for clad Inconel 625. Therefore, in order to achieve significant surface integrity changes, process parameters need to be selected and optimized accordingly. Also, the findings indicate that some new factors established significant affect/change surface integrity: (a) SPD through a high r_β/h ratio; (b) the specific pre-processing thermomechanical history of the workpiece material; and (c) and cryogenic cooling, by changing material properties, reducing temperature and altering cutting phenomena and chip formation. </s> \n"
     ]
    }
   ],
   "source": [
    "data = load_dataset(\"enyuan/Abstracts\")\n",
    "data_train = data[\"train\"]\n",
    "\n",
    "custom_data = load_dataset('json', data_files='data_eval.json')\n",
    "data_val = custom_data['train']\n",
    "\n",
    "# Print the dataset details\n",
    "print(data_train)\n",
    "print(data_val)\n",
    "\n",
    "# Access an example\n",
    "#example = data_train[0]\n",
    "#print(example)\n",
    "\n",
    "def generate_prompt(title, abstract=None, eos_token=\"</s>\"):\n",
    "  instruction = \"The abstract of the paper:\\n\"\n",
    "  input = f\"{title}\\n\"\n",
    "  abstract = f\"Abstract: {abstract + ' ' + eos_token if abstract else ''} \"\n",
    "  prompt = (\" \").join([instruction, input, abstract])\n",
    "  return prompt\n",
    "\n",
    "print(generate_prompt(data_train[0][\"title\"], data_train[0][\"abstract\"]))"
   ]
  },
  {
   "cell_type": "code",
   "execution_count": 4,
   "id": "347f25a1-b25f-40a6-9f81-4c0bdcfe8e85",
   "metadata": {},
   "outputs": [
    {
     "name": "stdout",
     "output_type": "stream",
     "text": [
      "The abstract of the paper:\n",
      " Effect of cryogenic cooling on residual stresses and surface finish of 316L during hybrid manufacturing\n",
      " Abstract:   In this work, a novel approach for reducing the residual stress in the welded joints of stainless steel is presented. A new process called Hybrid Manufacturing (HM) was developed to reduce the residual stress in the welded joints by using two different techniques namely, laser beam welding (LBW) and cryogenic treatment (CT). The effectiveness of HM technique has been studied with respect to the reduction of residual stress and improvement in surface roughness. The results showed that the residual stress can be reduced up to 40% when compared to conventional LBW method. Moreover, the surface roughness can also be improved significantly as shown by the Ra value which decreases from 25.87µm to 19.31µm after CT.\n",
      "The full text of the article: http://www.sciencedirect.com/science/article/pii/S092583881400132X\n"
     ]
    }
   ],
   "source": [
    "input_prompt = generate_prompt(data_train[50][\"title\"])\n",
    "input_tokens = tokenizer(input_prompt, return_tensors=\"pt\")[\"input_ids\"].to(\"cuda\")\n",
    "with torch.cuda.amp.autocast():\n",
    "  generation_output = model.generate(\n",
    "      input_ids=input_tokens,\n",
    "      max_new_tokens=1000,\n",
    "      do_sample=True,\n",
    "      top_k=10,\n",
    "      top_p=0.9,\n",
    "      temperature=0.3,\n",
    "      repetition_penalty=1.15,\n",
    "      num_return_sequences=1,\n",
    "      eos_token_id=tokenizer.eos_token_id,\n",
    "    )\n",
    "op = tokenizer.decode(generation_output[0], skip_special_tokens=True)\n",
    "print(op)"
   ]
  },
  {
   "cell_type": "code",
   "execution_count": 4,
   "id": "70887e88-ddc1-44b4-848b-fd554027b4c7",
   "metadata": {},
   "outputs": [],
   "source": [
    "with open('materials.txt', 'r') as file:\n",
    "    word_list = file.read().splitlines()"
   ]
  },
  {
   "cell_type": "code",
   "execution_count": 7,
   "id": "6b263087-4b39-4559-a1ca-fc0db0117772",
   "metadata": {},
   "outputs": [],
   "source": [
    "new_data = {\n",
    "    'title': word_list,\n",
    "    'abstract': [s.replace('_', '') for s in word_list],\n",
    "    'doi': ['material'] * len(word_list),  # 假设新数据集中没有doi信息\n",
    "    'publicationDate': [None] * len(word_list)  # 假设新数据集中没有publicationDate信息\n",
    "}\n",
    "new_dataset = Dataset.from_dict(new_data)\n",
    "\n",
    "data_train = concatenate_datasets([data_train, new_dataset])\n",
    "\n",
    "new_data = {\n",
    "    'title': [s.replace('_', '') for s in word_list],\n",
    "    'abstract': word_list,\n",
    "    'doi': ['material'] * len(word_list),  # 假设新数据集中没有doi信息\n",
    "    'publicationDate': [None] * len(word_list)  # 假设新数据集中没有publicationDate信息\n",
    "}\n",
    "new_dataset = Dataset.from_dict(new_data)\n",
    "\n",
    "data_train = concatenate_datasets([data_train, new_dataset])"
   ]
  },
  {
   "cell_type": "code",
   "execution_count": 8,
   "id": "37a51116-f6ef-4701-939f-d07933fb8f99",
   "metadata": {},
   "outputs": [],
   "source": [
    "data_val = data_train.select(range(200))"
   ]
  },
  {
   "cell_type": "code",
   "execution_count": 9,
   "id": "644d9dfc-ad91-4d3e-bb14-2ee5600631c2",
   "metadata": {},
   "outputs": [
    {
     "name": "stdout",
     "output_type": "stream",
     "text": [
      "The material :\n",
      " NiFeAlO4 is NiFeAlO_4 </s> \n"
     ]
    }
   ],
   "source": [
    "def generate_prompt(type, title, abstract=None, eos_token=\"</s>\"):\n",
    "    if type == 'material':\n",
    "        instruction = \"The material :\\n\"\n",
    "        input = f\"{title} is\"\n",
    "        output = f\"{abstract + ' ' + eos_token if abstract else ''} \"\n",
    "        prompt = (\" \").join([instruction, input, output])\n",
    "    else:\n",
    "        instruction = \"The abstract of the paper:\\n\"\n",
    "        input = f\"{title}\\n\"\n",
    "        output = f\"Abstract: {abstract + ' ' + eos_token if abstract else ''} \"\n",
    "        prompt = (\" \").join([instruction, input, output])\n",
    "    return prompt\n",
    "\n",
    "print(generate_prompt(data_train[-1][\"doi\"], data_train[-1][\"title\"], data_train[-1][\"abstract\"]))"
   ]
  },
  {
   "cell_type": "code",
   "execution_count": 8,
   "id": "5a4ce5ac-170a-42c2-8b05-b204b6bf9f35",
   "metadata": {},
   "outputs": [],
   "source": [
    "lora_config = LoraConfig(\n",
    "        r=256,\n",
    "        lora_alpha=512,\n",
    "        lora_dropout=0.05,\n",
    "        target_modules=[\"q_proj\",\"k_proj\",\"v_proj\",\"o_proj\"],\n",
    "        bias=\"none\",\n",
    "        task_type=\"CAUSAL_LM\",\n",
    "    )"
   ]
  },
  {
   "cell_type": "code",
   "execution_count": 11,
   "id": "6bb07ccc-4f63-44d0-8e25-16ad278ff7a7",
   "metadata": {},
   "outputs": [
    {
     "name": "stdout",
     "output_type": "stream",
     "text": [
      "Added 5552 tokens\n"
     ]
    }
   ],
   "source": [
    "# Step 1: Add new tokens to the tokenizer\n",
    "num_added_toks = tokenizer.add_tokens(word_list)\n",
    "print(f\"Added {num_added_toks} tokens\")\n",
    "\n",
    "tokenizer.add_special_tokens({\"pad_token\": \"<PAD>\"})\n",
    "model.resize_token_embeddings(len(tokenizer))\n",
    "\n",
    "#model = prepare_model_for_kbit_training(model)\n",
    "model = get_peft_model(model, lora_config)"
   ]
  },
  {
   "cell_type": "code",
   "execution_count": 12,
   "id": "f119b5df-ac5a-46f8-be81-b12943b162f3",
   "metadata": {},
   "outputs": [],
   "source": [
    "# Step 2: Freeze all parameters in the model\n",
    "#for param in model.parameters():\n",
    "#    param.requires_grad = False\n",
    "\n",
    "embeddings = model.get_input_embeddings()\n",
    "\n",
    "# Enable gradient updates for the entire embedding layer\n",
    "# Assuming you might want to fine-tune all embeddings, but here's how to selectively unfreeze\n",
    "embeddings.weight.requires_grad = True"
   ]
  },
  {
   "cell_type": "code",
   "execution_count": 5,
   "id": "8483b140-a7e6-4175-8e01-6e3f13879301",
   "metadata": {},
   "outputs": [],
   "source": [
    "# 准备训练参数\n",
    "training_args = TrainingArguments(\n",
    "    output_dir='results',            # 输出目录\n",
    "    num_train_epochs=2,              # 总训练轮数\n",
    "    per_device_train_batch_size=4,   # 训练的batch size\n",
    "    per_device_eval_batch_size=4,    # 验证的batch size\n",
    "    gradient_accumulation_steps=4, \n",
    "    #gradient_checkpointing=True,\n",
    "    #optim = \"paged_adamw_32bit\",\n",
    "    optim = \"adamw_torch\",\n",
    "    bf16=True,\n",
    "    #fp16=True,\n",
    "    warmup_steps=300,                # 预热步数\n",
    "    learning_rate = 1e-4,\n",
    "    max_grad_norm = 0.2,\n",
    "    #max_steps = 50,\n",
    "    #warmup_ratio = 0.03,\n",
    "    #weight_decay=0.01,               # 权重衰减\n",
    "    save_strategy=\"steps\",           # 设置保存策略为\"steps\"\n",
    "    save_steps=300,                  # 每500步保存一次模型\n",
    "    save_total_limit=3,              # 最多保存3个检查点\n",
    "    evaluation_strategy=\"epoch\",     # 设置评估策略为\"steps\"\n",
    "    group_by_length=True,\n",
    "    #eval_steps=10000\n",
    ")"
   ]
  },
  {
   "cell_type": "code",
   "execution_count": 6,
   "id": "b8e64ad6-36bd-4b68-b995-bfef056bb7cb",
   "metadata": {},
   "outputs": [],
   "source": [
    "# gradient checkpointing enabling\n",
    "model.enable_input_require_grads()\n",
    "model.gradient_checkpointing_enable()"
   ]
  },
  {
   "cell_type": "code",
   "execution_count": null,
   "id": "0d49402b-1027-4e8b-a777-54b6b03f7966",
   "metadata": {},
   "outputs": [
    {
     "name": "stderr",
     "output_type": "stream",
     "text": [
      "/opt/conda/lib/python3.10/site-packages/accelerate/accelerator.py:432: FutureWarning: Passing the following arguments to `Accelerator` is deprecated and will be removed in version 1.0 of Accelerate: dict_keys(['dispatch_batches', 'split_batches', 'even_batches', 'use_seedable_sampler']). Please pass an `accelerate.DataLoaderConfiguration` instead: \n",
      "dataloader_config = DataLoaderConfiguration(dispatch_batches=None, split_batches=False, even_batches=True, use_seedable_sampler=True)\n",
      "  warnings.warn(\n",
      "Detected kernel version 5.4.0, which is below the recommended minimum of 5.5.0; this can cause the process to hang. It is recommended to upgrade the kernel to the minimum version or higher.\n",
      "`use_cache=True` is incompatible with gradient checkpointing. Setting `use_cache=False`.\n"
     ]
    },
    {
     "data": {
      "text/html": [
       "\n",
       "    <div>\n",
       "      \n",
       "      <progress value='676' max='24798' style='width:300px; height:20px; vertical-align: middle;'></progress>\n",
       "      [  676/24798 35:04 < 20:55:32, 0.32 it/s, Epoch 0.05/2]\n",
       "    </div>\n",
       "    <table border=\"1\" class=\"dataframe\">\n",
       "  <thead>\n",
       " <tr style=\"text-align: left;\">\n",
       "      <th>Epoch</th>\n",
       "      <th>Training Loss</th>\n",
       "      <th>Validation Loss</th>\n",
       "    </tr>\n",
       "  </thead>\n",
       "  <tbody>\n",
       "  </tbody>\n",
       "</table><p>"
      ],
      "text/plain": [
       "<IPython.core.display.HTML object>"
      ]
     },
     "metadata": {},
     "output_type": "display_data"
    },
    {
     "name": "stderr",
     "output_type": "stream",
     "text": [
      "/opt/conda/lib/python3.10/site-packages/peft/utils/save_and_load.py:168: UserWarning: Setting `save_embedding_layers` to `True` as the embedding layer has been resized during finetuning.\n",
      "  warnings.warn(\n",
      "/opt/conda/lib/python3.10/site-packages/peft/utils/save_and_load.py:168: UserWarning: Setting `save_embedding_layers` to `True` as the embedding layer has been resized during finetuning.\n",
      "  warnings.warn(\n"
     ]
    }
   ],
   "source": [
    "def formatting_func(prompt):\n",
    "  output = []\n",
    "\n",
    "  for a, d, s in zip(prompt[\"doi\"], prompt[\"title\"], prompt[\"abstract\"]):\n",
    "    op = generate_prompt(a, d, s)\n",
    "    output.append(op)\n",
    "\n",
    "  return output\n",
    "\n",
    "\n",
    "trainer = SFTTrainer(\n",
    "    model=model,\n",
    "    train_dataset=data_train,\n",
    "    eval_dataset=data_val,\n",
    "    peft_config=lora_config,\n",
    "    formatting_func=formatting_func,\n",
    "    max_seq_length=512,\n",
    "    tokenizer=tokenizer,\n",
    "    args=training_args\n",
    ")\n",
    "\n",
    "# We will also pre-process the model by upcasting the layer norms in float 32 for more stable training\n",
    "#for name, module in trainer.model.named_modules():\n",
    "#    if \"norm\" in name:\n",
    "#        module = module.to(torch.float32)\n",
    "\n",
    "trainer.train()\n",
    "trainer.save_model(f\"{output_dir}/final\")\n",
    "\n",
    "# Step Training Loss Validation Loss\n",
    "# 10 1.848200 1.746341\n",
    "# 20 1.688300 1.696681\n",
    "# 30 1.654500 1.698127\n",
    "# 40 1.579400 1.652010\n",
    "# 50 1.492600 1.701877"
   ]
  },
  {
   "cell_type": "code",
   "execution_count": null,
   "id": "0e70cadb-ddc9-4677-94eb-07f25c452628",
   "metadata": {},
   "outputs": [
    {
     "data": {
      "application/vnd.jupyter.widget-view+json": {
       "model_id": "5acb4c8efe3f4f02b3efb6557cc557ca",
       "version_major": 2,
       "version_minor": 0
      },
      "text/plain": [
       "Map:   0%|          | 0/165071 [00:00<?, ? examples/s]"
      ]
     },
     "metadata": {},
     "output_type": "display_data"
    },
    {
     "data": {
      "application/vnd.jupyter.widget-view+json": {
       "model_id": "5ae5b320f70f43ba9c209a143cce9b8c",
       "version_major": 2,
       "version_minor": 0
      },
      "text/plain": [
       "Map:   0%|          | 0/559 [00:00<?, ? examples/s]"
      ]
     },
     "metadata": {},
     "output_type": "display_data"
    },
    {
     "name": "stderr",
     "output_type": "stream",
     "text": [
      "/opt/conda/lib/python3.10/site-packages/accelerate/accelerator.py:432: FutureWarning: Passing the following arguments to `Accelerator` is deprecated and will be removed in version 1.0 of Accelerate: dict_keys(['dispatch_batches', 'split_batches', 'even_batches', 'use_seedable_sampler']). Please pass an `accelerate.DataLoaderConfiguration` instead: \n",
      "dataloader_config = DataLoaderConfiguration(dispatch_batches=None, split_batches=False, even_batches=True, use_seedable_sampler=True)\n",
      "  warnings.warn(\n",
      "Detected kernel version 5.4.0, which is below the recommended minimum of 5.5.0; this can cause the process to hang. It is recommended to upgrade the kernel to the minimum version or higher.\n",
      "`use_cache=True` is incompatible with gradient checkpointing. Setting `use_cache=False`.\n"
     ]
    },
    {
     "data": {
      "text/html": [
       "\n",
       "    <div>\n",
       "      \n",
       "      <progress value='2507' max='20634' style='width:300px; height:20px; vertical-align: middle;'></progress>\n",
       "      [ 2507/20634 2:27:55 < 17:50:28, 0.28 it/s, Epoch 0.24/2]\n",
       "    </div>\n",
       "    <table border=\"1\" class=\"dataframe\">\n",
       "  <thead>\n",
       " <tr style=\"text-align: left;\">\n",
       "      <th>Epoch</th>\n",
       "      <th>Training Loss</th>\n",
       "      <th>Validation Loss</th>\n",
       "    </tr>\n",
       "  </thead>\n",
       "  <tbody>\n",
       "  </tbody>\n",
       "</table><p>"
      ],
      "text/plain": [
       "<IPython.core.display.HTML object>"
      ]
     },
     "metadata": {},
     "output_type": "display_data"
    },
    {
     "name": "stderr",
     "output_type": "stream",
     "text": [
      "/opt/conda/lib/python3.10/site-packages/peft/utils/save_and_load.py:168: UserWarning: Setting `save_embedding_layers` to `True` as the embedding layer has been resized during finetuning.\n",
      "  warnings.warn(\n",
      "/opt/conda/lib/python3.10/site-packages/peft/utils/save_and_load.py:168: UserWarning: Setting `save_embedding_layers` to `True` as the embedding layer has been resized during finetuning.\n",
      "  warnings.warn(\n",
      "/opt/conda/lib/python3.10/site-packages/peft/utils/save_and_load.py:168: UserWarning: Setting `save_embedding_layers` to `True` as the embedding layer has been resized during finetuning.\n",
      "  warnings.warn(\n",
      "/opt/conda/lib/python3.10/site-packages/peft/utils/save_and_load.py:168: UserWarning: Setting `save_embedding_layers` to `True` as the embedding layer has been resized during finetuning.\n",
      "  warnings.warn(\n",
      "/opt/conda/lib/python3.10/site-packages/peft/utils/save_and_load.py:168: UserWarning: Setting `save_embedding_layers` to `True` as the embedding layer has been resized during finetuning.\n",
      "  warnings.warn(\n",
      "/opt/conda/lib/python3.10/site-packages/peft/utils/save_and_load.py:168: UserWarning: Setting `save_embedding_layers` to `True` as the embedding layer has been resized during finetuning.\n",
      "  warnings.warn(\n",
      "/opt/conda/lib/python3.10/site-packages/peft/utils/save_and_load.py:168: UserWarning: Setting `save_embedding_layers` to `True` as the embedding layer has been resized during finetuning.\n",
      "  warnings.warn(\n",
      "/opt/conda/lib/python3.10/site-packages/peft/utils/save_and_load.py:168: UserWarning: Setting `save_embedding_layers` to `True` as the embedding layer has been resized during finetuning.\n",
      "  warnings.warn(\n"
     ]
    }
   ],
   "source": [
    "def formatting_func(prompt):\n",
    "  output = []\n",
    "\n",
    "  for d, s in zip(prompt[\"title\"], prompt[\"abstract\"]):\n",
    "    op = generate_prompt(d, s)\n",
    "    output.append(op)\n",
    "\n",
    "  return output\n",
    "\n",
    "\n",
    "trainer = SFTTrainer(\n",
    "    model=model,\n",
    "    train_dataset=data_train,\n",
    "    eval_dataset=data_val,\n",
    "    peft_config=lora_config,\n",
    "    formatting_func=formatting_func,\n",
    "    max_seq_length=512,\n",
    "    tokenizer=tokenizer,\n",
    "    args=training_args\n",
    ")\n",
    "\n",
    "# We will also pre-process the model by upcasting the layer norms in float 32 for more stable training\n",
    "#for name, module in trainer.model.named_modules():\n",
    "#    if \"norm\" in name:\n",
    "#        module = module.to(torch.float32)\n",
    "\n",
    "trainer.train()\n",
    "trainer.save_model(f\"{output_dir}/final\")"
   ]
  },
  {
   "cell_type": "code",
   "execution_count": 19,
   "id": "7b1c4f3e-d749-4235-b283-9caf5a593521",
   "metadata": {},
   "outputs": [
    {
     "name": "stderr",
     "output_type": "stream",
     "text": [
      "/opt/conda/lib/python3.10/site-packages/transformers/integrations/peft.py:391: FutureWarning: The `active_adapter` method is deprecated and will be removed in a future version.\n",
      "  warnings.warn(\n",
      "/opt/conda/lib/python3.10/site-packages/peft/utils/save_and_load.py:168: UserWarning: Setting `save_embedding_layers` to `True` as the embedding layer has been resized during finetuning.\n",
      "  warnings.warn(\n"
     ]
    },
    {
     "data": {
      "application/vnd.jupyter.widget-view+json": {
       "model_id": "ca1f77e5e90e4a18b8187051ddbb94b8",
       "version_major": 2,
       "version_minor": 0
      },
      "text/plain": [
       "adapter_model.safetensors:   0%|          | 0.00/1.15G [00:00<?, ?B/s]"
      ]
     },
     "metadata": {},
     "output_type": "display_data"
    },
    {
     "data": {
      "text/plain": [
       "CommitInfo(commit_url='https://huggingface.co/enyuan/llama_2_7b_materials/commit/f3e916ad96f32cf5b0ab4fc51e5eca07fd5a38e7', commit_message='Upload LlamaForCausalLM', commit_description='', oid='f3e916ad96f32cf5b0ab4fc51e5eca07fd5a38e7', pr_url=None, pr_revision=None, pr_num=None)"
      ]
     },
     "execution_count": 19,
     "metadata": {},
     "output_type": "execute_result"
    }
   ],
   "source": [
    "model.push_to_hub(\"enyuan/llama_2_7b_materials\")"
   ]
  },
  {
   "cell_type": "code",
   "execution_count": 20,
   "id": "9c45ef37-ce5e-44ec-bb37-675225009e7a",
   "metadata": {},
   "outputs": [
    {
     "data": {
      "application/vnd.jupyter.widget-view+json": {
       "model_id": "dafb560b761145218919b9f6646c4e2a",
       "version_major": 2,
       "version_minor": 0
      },
      "text/plain": [
       "README.md:   0%|          | 0.00/5.18k [00:00<?, ?B/s]"
      ]
     },
     "metadata": {},
     "output_type": "display_data"
    },
    {
     "data": {
      "text/plain": [
       "CommitInfo(commit_url='https://huggingface.co/enyuan/llama_2_7b_materials/commit/cccd6362887ae7730b7a9689bf36a3408e330a34', commit_message='Upload tokenizer', commit_description='', oid='cccd6362887ae7730b7a9689bf36a3408e330a34', pr_url=None, pr_revision=None, pr_num=None)"
      ]
     },
     "execution_count": 20,
     "metadata": {},
     "output_type": "execute_result"
    }
   ],
   "source": [
    "tokenizer.push_to_hub(\"enyuan/llama_2_7b_materials\")"
   ]
  },
  {
   "cell_type": "code",
   "execution_count": 31,
   "id": "1c50c387-2084-4e3b-b5d6-6ac9a6d15854",
   "metadata": {},
   "outputs": [
    {
     "name": "stdout",
     "output_type": "stream",
     "text": [
      "Answer the materials:\n",
      " Magnetic materials with low magnetic damping constant.\n",
      " The material is:\n",
      "Word: BiFeO_3, Probability: 0.0095\n",
      "Word: Fe_3O_4, Probability: 0.0045\n",
      "Word: Mn_2V_3O_12, Probability: 0.0043\n",
      "Word: BaAl_xCr_yFe_11O_19, Probability: 0.0034\n",
      "Word: NiRh_2S_4, Probability: 0.0033\n",
      "Word: Ti_0.94Co_0.03La_0.03O_2, Probability: 0.0031\n",
      "Word: Gd_0.67Sr_0.33MnO_3, Probability: 0.0029\n",
      "Word: Fe_0.8Ga_0.2, Probability: 0.0025\n",
      "Word: NiFe_2O_4, Probability: 0.0025\n",
      "Word: SrSm_2Fe_2O_7, Probability: 0.0020\n",
      "Word: Bi_0.5La_0.5MnO_3, Probability: 0.0020\n",
      "Word: Cu_0.5Fe_0.5Cr_2S_4, Probability: 0.0019\n",
      "Word: Fe_xZn_2-xMo_3O_8, Probability: 0.0016\n",
      "Word: CaMn_3V_4O_12, Probability: 0.0015\n",
      "Word: CdFe_2O_4, Probability: 0.0015\n",
      "Word: Ni_3O_3, Probability: 0.0015\n",
      "Word: Ni_3Sn_2, Probability: 0.0015\n",
      "Word: Ni_50Mn_29Ga_21, Probability: 0.0014\n",
      "Word: Tl_2NaFeF_6, Probability: 0.0012\n",
      "Word: Ni_1.25-xZn_xPb_0.25Fe_1.5O_4, Probability: 0.0012\n",
      "Word: Li_3V_2, Probability: 0.0012\n",
      "Word: SrSn_0.97-xFe_xSb_0.03O_3-, Probability: 0.0012\n",
      "Word: Fe_3W_3C, Probability: 0.0012\n",
      "Word: La_2MnCoO_6, Probability: 0.0011\n",
      "Word: Fe_73.5Cu_1Nb_3Si_13.5B_9, Probability: 0.0011\n",
      "Word: Sm_2BaNiO_5, Probability: 0.0011\n",
      "Word: Mn_2VSnC_2, Probability: 0.0011\n",
      "Word: Ni_48Mn_34In_12Co_6, Probability: 0.0011\n",
      "Word: SrFe_1, Probability: 0.0010\n",
      "Word: YCa_2Hf_2Fe_3O_12, Probability: 0.0010\n",
      "Word: Ni_2.08Mn_0.96Ga_0.96, Probability: 0.0010\n",
      "Word: BaFe_12O_19, Probability: 0.0010\n",
      "Word: GdFeO_3, Probability: 0.0009\n",
      "Word: SrCr_6Fe_6O_19, Probability: 0.0009\n",
      "Word: Co_2MnSi, Probability: 0.0009\n",
      "Word: FeNb_3S_6, Probability: 0.0009\n",
      "Word: Mn_2O_3, Probability: 0.0009\n",
      "Word: LiNi_0.65-xCo_0.1Mn_0.25Cr_xO_2, Probability: 0.0009\n",
      "Word: Co_50Ni_23Ga_27Al_0, Probability: 0.0009\n",
      "Word: Fe_2Ca_3, Probability: 0.0009\n",
      "Word: Ga_1-xSn_xCMn_3, Probability: 0.0009\n",
      "Word: Ni_0.865Pd_0.135, Probability: 0.0009\n",
      "Word: Co_2Y, Probability: 0.0009\n",
      "Word: NiGa_0.25Fe_1.75-xCr_xO_4, Probability: 0.0008\n",
      "Word: MnCrAlO_4, Probability: 0.0008\n",
      "Word: LiFeO_2, Probability: 0.0008\n",
      "Word: Li_0.46Zn_0.04Fe_2.5O_4, Probability: 0.0008\n",
      "Word: YO_0.9F_0.1FeAs, Probability: 0.0008\n",
      "Word: Ni_xZn_2-xGeO_4, Probability: 0.0008\n",
      "Word: Na_2NiSi_4O_10, Probability: 0.0008\n",
      "Word: Co_21Mo_2B_6, Probability: 0.0008\n",
      "Word: BaVS_3, Probability: 0.0007\n",
      "Word: RFeO_3, Probability: 0.0007\n",
      "Word: MgMn_xCr_2-xO_4, Probability: 0.0007\n",
      "Word: ZnFe_2, Probability: 0.0007\n",
      "Word: Fe_3Ni, Probability: 0.0007\n",
      "Word: Mn_3GaC, Probability: 0.0007\n",
      "Word: Co_2TiN, Probability: 0.0007\n",
      "Word: BaFe_12O_17F_2, Probability: 0.0007\n",
      "Word: Sr_2Ni_2Fe_12O_22, Probability: 0.0007\n",
      "Word: Fe_4M_4, Probability: 0.0006\n",
      "Word: La_0.67Sr_0.16Ca_0.17MnO_3, Probability: 0.0006\n",
      "Word: La_0.3R_0.2Sr_0.5Ti_0.5Fe_0.5O_3, Probability: 0.0006\n",
      "Word: ZnCoFe_2O_4, Probability: 0.0006\n",
      "Word: YReFeAlO_6, Probability: 0.0006\n"
     ]
    }
   ],
   "source": [
    "def generate_prompt(prompt, output=None, eos_token=\"</s>\"):\n",
    "    instruction = \"Answer the materials:\\n\"\n",
    "    input = f\"Magnetic materials with {prompt}\\n\"\n",
    "    output = f\"The material is:\"\n",
    "    prompt = (\" \").join([instruction, input, output])\n",
    "    return prompt\n",
    "\n",
    "input_prompt = generate_prompt('low magnetic damping constant.')\n",
    "print(input_prompt)\n",
    "input_tokens = tokenizer(input_prompt, return_tensors=\"pt\")[\"input_ids\"].to(\"cuda\")\n",
    "\n",
    "with torch.no_grad():\n",
    "    logits = model(input_tokens).logits\n",
    "\n",
    "probabilities = torch.softmax(logits[:, -1, :], dim=-1)\n",
    "\n",
    "# Get the top 10 token IDs and their probabilities\n",
    "top_k = 200\n",
    "top_probabilities, top_token_ids = torch.topk(probabilities, top_k)\n",
    "\"\"\"\n",
    "# Convert probabilities to a human-readable format (e.g., Python list)\n",
    "top_probabilities = top_probabilities.squeeze().tolist()\n",
    "top_token_ids = top_token_ids.squeeze().tolist()\n",
    "\n",
    "# Decode each token ID and pair it with its probability\n",
    "top_words_with_probs = [(tokenizer.decode([token_id]), prob) for token_id, prob in zip(top_token_ids, top_probabilities)]\n",
    "\n",
    "# Display the results\n",
    "for word, prob in top_words_with_probs:\n",
    "    print(f\"Word: {word}, Probability: {prob:.4f}\")\n",
    "\"\"\"\n",
    "# Filter tokens with IDs less than 32000\n",
    "mask = top_token_ids >= 32000\n",
    "filtered_top_token_ids = top_token_ids[mask]\n",
    "filtered_top_probabilities = top_probabilities[mask]\n",
    "\n",
    "# Convert probabilities to a human-readable format (e.g., Python list)\n",
    "filtered_top_probabilities = filtered_top_probabilities.squeeze().tolist()\n",
    "filtered_top_token_ids = filtered_top_token_ids.squeeze().tolist()\n",
    "\n",
    "# Decode each token ID and pair it with its probability\n",
    "top_words_with_probs = [(tokenizer.decode([token_id]), prob) for token_id, prob in zip(filtered_top_token_ids, filtered_top_probabilities)]\n",
    "\n",
    "# Display the results\n",
    "for word, prob in top_words_with_probs:\n",
    "    print(f\"Word: {word}, Probability: {prob:.4f}\")"
   ]
  },
  {
   "cell_type": "code",
   "execution_count": 2,
   "id": "2b97d150-810d-4cf9-879e-261861c030d0",
   "metadata": {},
   "outputs": [
    {
     "data": {
      "application/vnd.jupyter.widget-view+json": {
       "model_id": "0a0fdf16af59424cbad4688074921883",
       "version_major": 2,
       "version_minor": 0
      },
      "text/plain": [
       "Loading checkpoint shards:   0%|          | 0/2 [00:00<?, ?it/s]"
      ]
     },
     "metadata": {},
     "output_type": "display_data"
    },
    {
     "name": "stderr",
     "output_type": "stream",
     "text": [
      "Special tokens have been added in the vocabulary, make sure the associated word embeddings are fine-tuned or trained.\n"
     ]
    }
   ],
   "source": [
    "model_name = \"meta-llama/Llama-2-7b-hf\"\n",
    "model = AutoModelForCausalLM.from_pretrained(model_name,\n",
    "                                             torch_dtype=torch.bfloat16,\n",
    "                                             device_map=\"auto\"\n",
    "                                            )\n",
    "tokenizer = AutoTokenizer.from_pretrained('results/checkpoint-8400')\n",
    "model.resize_token_embeddings(len(tokenizer))\n",
    "\n",
    "model.load_adapter('results/checkpoint-8400')"
   ]
  },
  {
   "cell_type": "code",
   "execution_count": 2,
   "id": "1717ae01-2ff2-4175-9d6d-0a4fe5f6365d",
   "metadata": {},
   "outputs": [
    {
     "data": {
      "application/vnd.jupyter.widget-view+json": {
       "model_id": "1d23b94f46fc4fe887ebe7deb127d58a",
       "version_major": 2,
       "version_minor": 0
      },
      "text/plain": [
       "Loading checkpoint shards:   0%|          | 0/2 [00:00<?, ?it/s]"
      ]
     },
     "metadata": {},
     "output_type": "display_data"
    },
    {
     "name": "stderr",
     "output_type": "stream",
     "text": [
      "Special tokens have been added in the vocabulary, make sure the associated word embeddings are fine-tuned or trained.\n"
     ]
    }
   ],
   "source": [
    "import torch\n",
    "from transformers import AutoModelForCausalLM, AutoTokenizer\n",
    "\n",
    "model_name = \"meta-llama/Llama-2-7b-hf\"\n",
    "model = AutoModelForCausalLM.from_pretrained(model_name,\n",
    "                                             torch_dtype=torch.bfloat16,\n",
    "                                             device_map=\"auto\"\n",
    "                                            )\n",
    "original_tokenizer = AutoTokenizer.from_pretrained(model_name)\n",
    "original_embeddings = model.get_input_embeddings().weight.detach().clone()\n",
    "\n",
    "tokenizer = AutoTokenizer.from_pretrained('results/checkpoint-8400')\n",
    "model.resize_token_embeddings(len(tokenizer))\n",
    "model.load_adapter('results/checkpoint-8400')\n",
    "\n",
    "\n",
    "embeddings = model.get_input_embeddings().weight.data\n",
    "embeddings[:len(original_tokenizer)] = original_embeddings[:len(original_tokenizer)]"
   ]
  },
  {
   "cell_type": "code",
   "execution_count": null,
   "id": "20e6c9a0-ea83-464d-b371-86fbecb8f607",
   "metadata": {},
   "outputs": [],
   "source": [
    "def generate_prompt(prompt, output=None, eos_token=\"</s>\"):\n",
    "    instruction = \"Answer the materials:\\n\"\n",
    "    input = f\"Magnetic materials with {prompt}\\n\"\n",
    "    output = f\"The molecular formula of the material:\"\n",
    "    prompt = (\" \").join([instruction, input, output])\n",
    "    return prompt\n",
    "\n",
    "input_prompt = generate_prompt('low magnetic damping constant.')\n",
    "print(input_prompt)\n",
    "input_tokens = tokenizer(input_prompt, return_tensors=\"pt\")[\"input_ids\"].to(\"cuda\")\n",
    "\n",
    "with torch.no_grad():\n",
    "    logits = model(input_tokens).logits\n",
    "\n",
    "# 在计算softmax之前，为了数值稳定性，从logits中减去每个logit的最大值\n",
    "logits_stable = logits - torch.max(logits, dim=-1, keepdim=True).values\n",
    "\n",
    "probabilities = torch.softmax(logits_stable[:, -1, :], dim=-1)\n",
    "\n",
    "# Get the top 10 token IDs and their probabilities\n",
    "top_k = 10\n",
    "top_probabilities, top_token_ids = torch.topk(probabilities, top_k)\n",
    "\n",
    "# Convert probabilities to a human-readable format (e.g., Python list)\n",
    "top_probabilities = top_probabilities.squeeze().tolist()\n",
    "top_token_ids = top_token_ids.squeeze().tolist()\n",
    "\n",
    "# Decode each token ID and pair it with its probability\n",
    "top_words_with_probs = [(tokenizer.decode([token_id]), prob) for token_id, prob in zip(top_token_ids, top_probabilities)]\n",
    "\n",
    "# Display the results\n",
    "for word, prob in top_words_with_probs:\n",
    "    print(f\"Word: {word}, Probability: {prob:.4f}\")"
   ]
  },
  {
   "cell_type": "code",
   "execution_count": 9,
   "id": "d878c63e-2a64-4790-a3a0-5ad01d25706e",
   "metadata": {},
   "outputs": [
    {
     "data": {
      "text/plain": [
       "37553"
      ]
     },
     "execution_count": 9,
     "metadata": {},
     "output_type": "execute_result"
    }
   ],
   "source": [
    "len(probabilities[0])"
   ]
  },
  {
   "cell_type": "code",
   "execution_count": 23,
   "id": "c6db7b0b-f14a-4c1c-8cc5-765ffeca6795",
   "metadata": {},
   "outputs": [
    {
     "data": {
      "text/plain": [
       "tensor([[    1,   673,   278, 17279, 29901,    13,  3561,  1212,   293, 17279,\n",
       "           411,  4482, 15611,   270,  1160,   292,  4868, 29889,    13,   450,\n",
       "         13206, 16637,  7063,   310,   278,  5518, 29901]], device='cuda:0')"
      ]
     },
     "execution_count": 23,
     "metadata": {},
     "output_type": "execute_result"
    }
   ],
   "source": [
    "input_tokens"
   ]
  },
  {
   "cell_type": "code",
   "execution_count": 21,
   "id": "7ae5a43c-8612-44c3-8b8a-ddc8e679b73d",
   "metadata": {},
   "outputs": [
    {
     "data": {
      "text/plain": [
       "tensor([[    1,   673,   278, 17279, 29901,    13,  3561,  1212,   293, 17279,\n",
       "           411,  4482, 15611,   270,  1160,   292,  4868, 29889,    13,   450,\n",
       "         13206, 16637,  7063,   310,   278,  5518, 29901, 37551]],\n",
       "       device='cuda:0')"
      ]
     },
     "execution_count": 21,
     "metadata": {},
     "output_type": "execute_result"
    }
   ],
   "source": [
    "input_tokens"
   ]
  },
  {
   "cell_type": "code",
   "execution_count": 67,
   "id": "4dda011c-9377-4412-af00-4297571242c0",
   "metadata": {},
   "outputs": [],
   "source": [
    "model.save_pretrained('result', save_embedding_layers=True)"
   ]
  },
  {
   "cell_type": "code",
   "execution_count": null,
   "id": "601970e5-872e-4680-8244-01c41a211fd1",
   "metadata": {},
   "outputs": [],
   "source": [
    "for param in model.parameters():\n",
    "    print(param.dtype)"
   ]
  },
  {
   "cell_type": "code",
   "execution_count": 22,
   "id": "291eb404-d313-4f1f-87c3-e489d24d60e9",
   "metadata": {},
   "outputs": [
    {
     "data": {
      "text/plain": [
       "PeftModelForCausalLM(\n",
       "  (base_model): LoraModel(\n",
       "    (model): LlamaForCausalLM(\n",
       "      (model): LlamaModel(\n",
       "        (embed_tokens): Embedding(37553, 4096)\n",
       "        (layers): ModuleList(\n",
       "          (0-31): 32 x LlamaDecoderLayer(\n",
       "            (self_attn): LlamaAttention(\n",
       "              (q_proj): lora.Linear(\n",
       "                (base_layer): Linear(in_features=4096, out_features=4096, bias=False)\n",
       "                (lora_dropout): ModuleDict(\n",
       "                  (default): Dropout(p=0.05, inplace=False)\n",
       "                )\n",
       "                (lora_A): ModuleDict(\n",
       "                  (default): Linear(in_features=4096, out_features=256, bias=False)\n",
       "                )\n",
       "                (lora_B): ModuleDict(\n",
       "                  (default): Linear(in_features=256, out_features=4096, bias=False)\n",
       "                )\n",
       "                (lora_embedding_A): ParameterDict()\n",
       "                (lora_embedding_B): ParameterDict()\n",
       "              )\n",
       "              (k_proj): lora.Linear(\n",
       "                (base_layer): Linear(in_features=4096, out_features=4096, bias=False)\n",
       "                (lora_dropout): ModuleDict(\n",
       "                  (default): Dropout(p=0.05, inplace=False)\n",
       "                )\n",
       "                (lora_A): ModuleDict(\n",
       "                  (default): Linear(in_features=4096, out_features=256, bias=False)\n",
       "                )\n",
       "                (lora_B): ModuleDict(\n",
       "                  (default): Linear(in_features=256, out_features=4096, bias=False)\n",
       "                )\n",
       "                (lora_embedding_A): ParameterDict()\n",
       "                (lora_embedding_B): ParameterDict()\n",
       "              )\n",
       "              (v_proj): lora.Linear(\n",
       "                (base_layer): Linear(in_features=4096, out_features=4096, bias=False)\n",
       "                (lora_dropout): ModuleDict(\n",
       "                  (default): Dropout(p=0.05, inplace=False)\n",
       "                )\n",
       "                (lora_A): ModuleDict(\n",
       "                  (default): Linear(in_features=4096, out_features=256, bias=False)\n",
       "                )\n",
       "                (lora_B): ModuleDict(\n",
       "                  (default): Linear(in_features=256, out_features=4096, bias=False)\n",
       "                )\n",
       "                (lora_embedding_A): ParameterDict()\n",
       "                (lora_embedding_B): ParameterDict()\n",
       "              )\n",
       "              (o_proj): lora.Linear(\n",
       "                (base_layer): Linear(in_features=4096, out_features=4096, bias=False)\n",
       "                (lora_dropout): ModuleDict(\n",
       "                  (default): Dropout(p=0.05, inplace=False)\n",
       "                )\n",
       "                (lora_A): ModuleDict(\n",
       "                  (default): Linear(in_features=4096, out_features=256, bias=False)\n",
       "                )\n",
       "                (lora_B): ModuleDict(\n",
       "                  (default): Linear(in_features=256, out_features=4096, bias=False)\n",
       "                )\n",
       "                (lora_embedding_A): ParameterDict()\n",
       "                (lora_embedding_B): ParameterDict()\n",
       "              )\n",
       "              (rotary_emb): LlamaRotaryEmbedding()\n",
       "            )\n",
       "            (mlp): LlamaMLP(\n",
       "              (gate_proj): Linear(in_features=4096, out_features=11008, bias=False)\n",
       "              (up_proj): Linear(in_features=4096, out_features=11008, bias=False)\n",
       "              (down_proj): Linear(in_features=11008, out_features=4096, bias=False)\n",
       "              (act_fn): SiLU()\n",
       "            )\n",
       "            (input_layernorm): LlamaRMSNorm()\n",
       "            (post_attention_layernorm): LlamaRMSNorm()\n",
       "          )\n",
       "        )\n",
       "        (norm): LlamaRMSNorm()\n",
       "      )\n",
       "      (lm_head): Linear(in_features=4096, out_features=37553, bias=False)\n",
       "    )\n",
       "  )\n",
       ")"
      ]
     },
     "execution_count": 22,
     "metadata": {},
     "output_type": "execute_result"
    }
   ],
   "source": [
    "model"
   ]
  },
  {
   "cell_type": "code",
   "execution_count": null,
   "id": "346aa5df-43be-459d-98fc-247b0a2fda7f",
   "metadata": {},
   "outputs": [],
   "source": []
  },
  {
   "cell_type": "code",
   "execution_count": null,
   "id": "f7fa5b3e-125c-4fb1-b073-82301ba20d66",
   "metadata": {},
   "outputs": [],
   "source": []
  },
  {
   "cell_type": "code",
   "execution_count": null,
   "id": "53006efd-ca7f-4cf7-b226-331f6f4316b7",
   "metadata": {},
   "outputs": [],
   "source": [
    "for name, param in model.named_parameters():\n",
    "    print(f\"Trainable: {name}\", param.requires_grad)"
   ]
  },
  {
   "cell_type": "code",
   "execution_count": 14,
   "id": "0de8f185-07da-46c0-a3af-0f45f6b39016",
   "metadata": {},
   "outputs": [
    {
     "data": {
      "text/plain": [
       "<generator object Module.parameters at 0x7faf7c779ee0>"
      ]
     },
     "execution_count": 14,
     "metadata": {},
     "output_type": "execute_result"
    }
   ],
   "source": [
    "model.parameters()"
   ]
  },
  {
   "cell_type": "code",
   "execution_count": 15,
   "id": "0db0120f-b1a6-441a-8dbe-d0e59fe4e9f8",
   "metadata": {},
   "outputs": [
    {
     "data": {
      "text/plain": [
       "Embedding(38544, 4096)"
      ]
     },
     "execution_count": 15,
     "metadata": {},
     "output_type": "execute_result"
    }
   ],
   "source": [
    "model.get_input_embeddings()"
   ]
  },
  {
   "cell_type": "code",
   "execution_count": 18,
   "id": "a34e1d06-cd59-4b28-9915-a865bb031c2c",
   "metadata": {},
   "outputs": [
    {
     "data": {
      "text/plain": [
       "6922694656"
      ]
     },
     "execution_count": 18,
     "metadata": {},
     "output_type": "execute_result"
    }
   ],
   "source": [
    "model.num_parameters()"
   ]
  },
  {
   "cell_type": "code",
   "execution_count": null,
   "id": "621f10f6-db0d-47ad-9c4f-6d4cc888b013",
   "metadata": {},
   "outputs": [],
   "source": []
  }
 ],
 "metadata": {
  "kernelspec": {
   "display_name": "Python 3 (ipykernel)",
   "language": "python",
   "name": "python3"
  },
  "language_info": {
   "codemirror_mode": {
    "name": "ipython",
    "version": 3
   },
   "file_extension": ".py",
   "mimetype": "text/x-python",
   "name": "python",
   "nbconvert_exporter": "python",
   "pygments_lexer": "ipython3",
   "version": "3.10.11"
  }
 },
 "nbformat": 4,
 "nbformat_minor": 5
}
